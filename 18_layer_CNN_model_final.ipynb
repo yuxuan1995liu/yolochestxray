{
 "cells": [
  {
   "cell_type": "code",
   "execution_count": 1,
   "metadata": {},
   "outputs": [
    {
     "name": "stderr",
     "output_type": "stream",
     "text": [
      "Using TensorFlow backend.\n"
     ]
    },
    {
     "name": "stdout",
     "output_type": "stream",
     "text": [
      "Image ordering is tf check:  tf\n"
     ]
    }
   ],
   "source": [
    "import xml.etree.ElementTree as ET\n",
    "import matplotlib.pyplot as plt\n",
    "import glob\n",
    "import pickle\n",
    "import numpy as np\n",
    "import sys, os\n",
    "import pylab\n",
    "import time \n",
    "import scipy.misc\n",
    "import matplotlib\n",
    "import re\n",
    "from PIL import Image\n",
    "\n",
    "import keras\n",
    "from keras.models import Sequential\n",
    "from keras.models import Model\n",
    "from keras.layers import Dense, Activation, Flatten, Lambda,Input, concatenate, Conv2DTranspose\n",
    "from keras.layers import Conv2D, MaxPooling2D, BatchNormalization \n",
    "from keras.utils import np_utils \n",
    "from keras import optimizers \n",
    "from keras.models import load_model\n",
    "from keras.models import model_from_json\n",
    "\n",
    "import keras.backend as K \n",
    "K.set_image_dim_ordering('tf')\n",
    "print('Image ordering is tf check: ',K.image_dim_ordering())\n",
    "list_of_losses = []"
   ]
  },
  {
   "cell_type": "code",
   "execution_count": 2,
   "metadata": {},
   "outputs": [
    {
     "name": "stdout",
     "output_type": "stream",
     "text": [
      "[['00013118_008.png', '1024', '1024', 'Atelectasis', '225.084745762712', '547.019216763771', '311.8644067796611', '626.2056574417371'], ['00014716_007.png', '1024', '1024', 'Atelectasis', '686.101694915254', '131.543498411017', '871.593220338983', '445.03502383474597'], ['00029817_009.png', '1024', '1024', 'Atelectasis', '221.830508474576', '317.053115068856', '376.949152542373', '534.0022676112291'], ['00014687_001.png', '1024', '1024', 'Atelectasis', '726.237288135593', '494.951420153602', '867.254237288135', '550.273454051907'], ['00017877_001.png', '1024', '1024', 'Atelectasis', '660.067796610169', '569.78078654661', '860.745762711864', '647.8824814618642']]\n",
      "984\n"
     ]
    }
   ],
   "source": [
    "import csv\n",
    "bbox_path = 'formatted_csv.csv'\n",
    "csv_as_list = []\n",
    "with open(bbox_path) as csvfile:\n",
    "    readCSV = csv.reader(csvfile, delimiter=',')\n",
    "    for row in readCSV:\n",
    "        csv_as_list.append(row)\n",
    "csv_as_list = csv_as_list[1:]\n",
    "print(csv_as_list[:5])\n",
    "print(len(csv_as_list))"
   ]
  },
  {
   "cell_type": "code",
   "execution_count": 3,
   "metadata": {},
   "outputs": [],
   "source": [
    "disease_label_dict = {\"Infiltrate\":0,\"Mass\":1,\"Nodule\":2,\"Cardiomegaly\":3,\"Atelectasis\":4,\"Effusion\":5,\"Pneumonia\":6,\"Pneumothorax\":7}"
   ]
  },
  {
   "cell_type": "code",
   "execution_count": 4,
   "metadata": {},
   "outputs": [
    {
     "name": "stdout",
     "output_type": "stream",
     "text": [
      "850\n"
     ]
    }
   ],
   "source": [
    "#train/test split\n",
    "train_csv_output = []\n",
    "train_name = os.listdir(\"train/\")\n",
    "for information in csv_as_list:\n",
    "    if information[0] in train_name:\n",
    "        train_csv_output.append(information)\n",
    "print(len(train_csv_output))"
   ]
  },
  {
   "cell_type": "code",
   "execution_count": 5,
   "metadata": {},
   "outputs": [
    {
     "name": "stdout",
     "output_type": "stream",
     "text": [
      "129\n",
      "00000181_061.png\n"
     ]
    }
   ],
   "source": [
    "#train/test split\n",
    "test_csv_output = []\n",
    "test_name = os.listdir(\"test/\")\n",
    "for information in csv_as_list:\n",
    "    if information[0] in test_name:\n",
    "        test_csv_output.append(information)\n",
    "print(len(test_csv_output))\n",
    "print(test_csv_output[1][0])"
   ]
  },
  {
   "cell_type": "code",
   "execution_count": 6,
   "metadata": {},
   "outputs": [
    {
     "name": "stdout",
     "output_type": "stream",
     "text": [
      "[[  0   1   3 ...   3   4   4]\n",
      " [  0   2   5 ...   5   6   7]\n",
      " [  0   2   5 ...   5   6   7]\n",
      " ...\n",
      " [  0  12  41 ... 151 151 162]\n",
      " [  0   8  27 ... 131 131 133]\n",
      " [  0   0   0 ...   0   0   0]]\n",
      "1024\n",
      "1024\n",
      "(1024, 1024)\n"
     ]
    },
    {
     "name": "stderr",
     "output_type": "stream",
     "text": [
      "/home/ubuntu/anaconda3/envs/tensorflow_p36/lib/python3.6/site-packages/ipykernel_launcher.py:1: DeprecationWarning: `imread` is deprecated!\n",
      "`imread` is deprecated in SciPy 1.0.0, and will be removed in 1.2.0.\n",
      "Use ``imageio.imread`` instead.\n",
      "  \"\"\"Entry point for launching an IPython kernel.\n"
     ]
    },
    {
     "data": {
      "text/plain": [
       "array([[  0,   1,   3, ...,   3,   4,   4],\n",
       "       [  0,   2,   5, ...,   5,   6,   7],\n",
       "       [  0,   2,   5, ...,   5,   6,   7],\n",
       "       ...,\n",
       "       [  0,  12,  41, ..., 151, 151, 162],\n",
       "       [  0,   8,  27, ..., 131, 131, 133],\n",
       "       [  0,   0,   0, ...,   0,   0,   0]], dtype=uint8)"
      ]
     },
     "execution_count": 6,
     "metadata": {},
     "output_type": "execute_result"
    }
   ],
   "source": [
    "img = scipy.misc.imread(os.path.join(\"train/\",csv_as_list[1][0]))\n",
    "print(img)\n",
    "print(len(img))\n",
    "print(len(img[0]))\n",
    "print(img.shape)\n",
    "img.reshape(1024,1024)"
   ]
  },
  {
   "cell_type": "code",
   "execution_count": 10,
   "metadata": {},
   "outputs": [
    {
     "name": "stderr",
     "output_type": "stream",
     "text": [
      "/home/ubuntu/anaconda3/envs/tensorflow_p36/lib/python3.6/site-packages/ipykernel_launcher.py:21: DeprecationWarning: `imread` is deprecated!\n",
      "`imread` is deprecated in SciPy 1.0.0, and will be removed in 1.2.0.\n",
      "Use ``imageio.imread`` instead.\n"
     ]
    },
    {
     "name": "stdout",
     "output_type": "stream",
     "text": [
      "Collected 100 Images and labels\n",
      "Collected 200 Images and labels\n",
      "Collected 300 Images and labels\n",
      "Collected 400 Images and labels\n",
      "Collected 500 Images and labels\n",
      "Collected 600 Images and labels\n",
      "Collected 700 Images and labels\n",
      "Collected 800 Images and labels\n"
     ]
    }
   ],
   "source": [
    "Y = np.zeros((16,16,1))\n",
    "Y_backup = np.zeros((16,16,1))\n",
    "Y_label_vectors = []\n",
    "classification_labels = []\n",
    "X = []\n",
    "\n",
    "#Randomizing the images\n",
    "select_images = list(range(850))\n",
    "\n",
    "N_img = 1\n",
    "\n",
    "for i in select_images: #the random output index\n",
    "    img_name = train_csv_output[i][0]\n",
    "    xmin = float(train_csv_output[i][4])\n",
    "    ymin = float(train_csv_output[i][5])\n",
    "    xmax = float(train_csv_output[i][6])\n",
    "    ymax = float(train_csv_output[i][7])\n",
    "    disease_label = train_csv_output[i][3]\n",
    "    \n",
    "    #Loading the image\n",
    "    img = scipy.misc.imread(os.path.join(\"train/\",img_name))\n",
    "    \n",
    "    #print(img.shape)\n",
    "    \n",
    "    #Bounding box dimensions \n",
    "    avg_x = (xmin+xmax)/2\n",
    "    avg_y = (ymin+ymax)/2\n",
    "    bh = ymax - ymin\n",
    "    bw = xmax - xmin\n",
    "    \n",
    "    #Starting pixel values for 64x64 window sliding through the 1024 by 1024 image (16*16)\n",
    "    nx = 0 \n",
    "    ny = 0 \n",
    "    #Moving horizontally through the original image\n",
    "    \n",
    "    for yaxis in range(0,16):\n",
    "        #Starting sliding window from left side of the image \n",
    "        nx = 0 \n",
    "        for xaxis in range(0,16): \n",
    "            \n",
    "            #64 by 64 sub-image \n",
    "            window = img[ny:ny+64, nx:nx+64]\n",
    "            #window starting and ending pixel coordinates \n",
    "            startx = nx\n",
    "            starty = ny \n",
    "            endx = nx+63\n",
    "            endy = ny+63\n",
    "\n",
    "            #Checking if the center disease area is in the particular sub-image and recording the corresponding output pixel to be 1\n",
    "            if startx >= (xmin-32) and endx <= (xmax+32) and starty >= (ymin-32) and endy <= (ymax+32):   \n",
    "                #Setting output image pixel values \n",
    "                Y[yaxis,xaxis,0] = 1\n",
    "            else: \n",
    "                Y[yaxis,xaxis,0] = 0\n",
    "                \n",
    "            if avg_x >= startx and avg_x <= endx and avg_y >= starty and avg_y <= endy:\n",
    "                Y_backup[yaxis,xaxis,0] = 1\n",
    "            else: \n",
    "                Y_backup[yaxis,xaxis,0] = 0\n",
    "                \n",
    "            #Moving horizontally\n",
    "            nx = nx + 64\n",
    "        #Moving Vertically\n",
    "        ny = ny + 64\n",
    "    if np.array_equal(Y,np.zeros((16,16,1))):\n",
    "        Y = Y_backup\n",
    "    #Adding Y to the label vector \n",
    "    Y_label_vectors.append(Y)\n",
    "    \n",
    "    #print(Y_label_vectors)\n",
    "    classification_labels.append(disease_label_dict[disease_label])\n",
    "    \n",
    "    #Adding 1024 by 1024 image to the X vector\n",
    "    X.append(img.reshape(1024,1024,1))\n",
    "\n",
    "    #Re-initializing Y for the next original image \n",
    "    Y = np.zeros((16,16,1))\n",
    "    Y_backup = np.zeros((16,16,1))\n",
    "    \n",
    "    #Keeping track of number of images\n",
    "    if N_img%100 == 0 : \n",
    "        print('Collected '+str(N_img) +' Images and labels')\n",
    "        \n",
    "    N_img+=1"
   ]
  },
  {
   "cell_type": "code",
   "execution_count": 11,
   "metadata": {
    "scrolled": true
   },
   "outputs": [
    {
     "name": "stdout",
     "output_type": "stream",
     "text": [
      "851\n"
     ]
    },
    {
     "data": {
      "text/plain": [
       "850"
      ]
     },
     "execution_count": 11,
     "metadata": {},
     "output_type": "execute_result"
    }
   ],
   "source": [
    "print(N_img)\n",
    "len(X)"
   ]
  },
  {
   "cell_type": "code",
   "execution_count": 15,
   "metadata": {},
   "outputs": [
    {
     "name": "stdout",
     "output_type": "stream",
     "text": [
      "Shape of X:  (850, 1024, 1024, 1)\n",
      "Shape of Output Y:  (850, 16, 16, 1)\n"
     ]
    },
    {
     "data": {
      "image/png": "[encoded data removed]",
      "text/plain": [
       "<Figure size 432x288 with 1 Axes>"
      ]
     },
     "metadata": {},
     "output_type": "display_data"
    },
    {
     "data": {
      "image/png": "[encoded data removed]",
      "text/plain": [
       "<Figure size 432x288 with 1 Axes>"
      ]
     },
     "metadata": {},
     "output_type": "display_data"
    }
   ],
   "source": [
    "#check data generation\n",
    "import random\n",
    "X = np.array(X)\n",
    "print('Shape of X: ',X.shape)\n",
    "print('Shape of Output Y: ',np.array(Y_label_vectors).shape)\n",
    "\n",
    "chp = random.choice(range(0,714))\n",
    "plt.imshow(X[1].reshape(1024,1024),cmap = 'gray')\n",
    "plt.show()\n",
    "plt.imshow(np.array(Y_label_vectors)[1,:,:,0].reshape(16,16),cmap = 'gray')\n",
    "plt.show()"
   ]
  },
  {
   "cell_type": "code",
   "execution_count": 16,
   "metadata": {},
   "outputs": [
    {
     "name": "stderr",
     "output_type": "stream",
     "text": [
      "/home/ubuntu/anaconda3/envs/tensorflow_p36/lib/python3.6/site-packages/ipykernel_launcher.py:21: DeprecationWarning: `imread` is deprecated!\n",
      "`imread` is deprecated in SciPy 1.0.0, and will be removed in 1.2.0.\n",
      "Use ``imageio.imread`` instead.\n"
     ]
    },
    {
     "name": "stdout",
     "output_type": "stream",
     "text": [
      "Collected 100 Images and labels\n"
     ]
    }
   ],
   "source": [
    "X_test =[]\n",
    "Y = np.zeros((16,16,1))\n",
    "Y_backup = np.zeros((16,16,1))\n",
    "Y_label_vectors_test=[]\n",
    "classification_test=[]\n",
    "\n",
    "#Randomizing the images\n",
    "select_images_test = list(range(129))\n",
    "\n",
    "N_img = 1\n",
    "\n",
    "for i in select_images_test: #the random output index\n",
    "    img_name = test_csv_output[i][0]\n",
    "    xmin = float(test_csv_output[i][4])\n",
    "    ymin = float(test_csv_output[i][5])\n",
    "    xmax = float(test_csv_output[i][6])\n",
    "    ymax = float(test_csv_output[i][7])\n",
    "    disease_label = test_csv_output[i][3]\n",
    "    \n",
    "    #Loading the image\n",
    "    img = scipy.misc.imread(os.path.join(\"test/\",img_name))\n",
    "    #print(img.shape)\n",
    "    \n",
    "    #Center of the nodule\n",
    "    avg_x = (xmin+xmax)/2\n",
    "    avg_y = (ymin+ymax)/2\n",
    "    bh = ymax-ymin\n",
    "    bw = xmax-xmin\n",
    "    \n",
    "    #Starting pixel values for 64x64 window sliding through the 1024 by 1024 image (16*16)\n",
    "    nx = 0 \n",
    "    ny = 0 \n",
    "    #Moving horizontally through the original image\n",
    "    \n",
    "    for yaxis in range(0,16):\n",
    "        #Starting sliding window from left side of the image \n",
    "        nx = 0 \n",
    "        for xaxis in range(0,16): \n",
    "            \n",
    "            #64 by 64 sub-image \n",
    "            window = img[ny:ny+64, nx:nx+64]\n",
    "            #window starting and ending pixel coordinates \n",
    "            startx = nx\n",
    "            starty = ny \n",
    "            endx = nx+63\n",
    "            endy = ny+63\n",
    "\n",
    "            #Checking if the center disease area is in the particular sub-image and recording the corresponding output pixel to be 1\n",
    "            if startx >= (xmin-32) and endx <= (xmax+32) and starty >= (ymin-32) and endy <= (ymax+32):  \n",
    "                #Setting output image pixel values \n",
    "                Y[yaxis,xaxis,0] = 1\n",
    "            else: \n",
    "                Y[yaxis,xaxis,0] = 0\n",
    "                \n",
    "            if avg_x >= startx and avg_x <= endx and avg_y >= starty and avg_y <= endy:\n",
    "                Y_backup[yaxis,xaxis,0] = 1\n",
    "            else: \n",
    "                Y_backup[yaxis,xaxis,0] = 0\n",
    "                \n",
    "                \n",
    "            #Moving horizontally\n",
    "            nx = nx + 64\n",
    "        #Moving Vertically\n",
    "        ny = ny + 64\n",
    "    #if no area in the bbox, use the area that at the center\n",
    "    if np.array_equal(Y,np.zeros((16,16,1))):\n",
    "        Y = Y_backup\n",
    "    \n",
    "    #Adding Y to the label vector \n",
    "    Y_label_vectors_test.append(Y)\n",
    "    \n",
    "    #print(Y_label_vectors)\n",
    "    classification_test.append(disease_label_dict[disease_label])\n",
    "    \n",
    "    #Adding 1024 by 1024 image to the X vector\n",
    "    try:\n",
    "        X_test.append(img.reshape(1024,1024,1))\n",
    "    except:\n",
    "        print(img_name)\n",
    "        \n",
    "    #Re-initializing Y for the next original image \n",
    "    Y = np.zeros((16,16,1))\n",
    "    Y_backup = np.zeros((16,16,1))\n",
    "    \n",
    "    #Keeping track of number of images\n",
    "    if N_img%100 == 0 : \n",
    "        print('Collected '+str(N_img) +' Images and labels')\n",
    "        \n",
    "    N_img+=1"
   ]
  },
  {
   "cell_type": "code",
   "execution_count": 17,
   "metadata": {},
   "outputs": [
    {
     "name": "stdout",
     "output_type": "stream",
     "text": [
      "Shape of X:  (129, 1024, 1024, 1)\n",
      "Shape of Output Y:  (129, 16, 16, 1)\n"
     ]
    },
    {
     "data": {
      "image/png": "[encoded data removed]",
      "text/plain": [
       "<Figure size 432x288 with 1 Axes>"
      ]
     },
     "metadata": {},
     "output_type": "display_data"
    },
    {
     "data": {
      "image/png": "[encoded data removed]",
      "text/plain": [
       "<Figure size 432x288 with 1 Axes>"
      ]
     },
     "metadata": {},
     "output_type": "display_data"
    },
    {
     "name": "stdout",
     "output_type": "stream",
     "text": [
      "[[0. 0. 0. 0. 0. 0. 0. 0. 0. 0. 0. 0. 0. 0. 0. 0.]\n",
      " [0. 0. 0. 0. 0. 0. 0. 0. 0. 0. 0. 0. 0. 0. 0. 0.]\n",
      " [0. 0. 0. 0. 0. 0. 0. 0. 0. 0. 0. 0. 0. 0. 0. 0.]\n",
      " [0. 0. 0. 0. 0. 0. 0. 0. 0. 0. 0. 0. 0. 0. 0. 0.]\n",
      " [0. 0. 0. 0. 0. 0. 0. 0. 0. 0. 0. 0. 0. 0. 0. 0.]\n",
      " [0. 0. 0. 0. 0. 0. 0. 0. 0. 0. 0. 0. 0. 0. 0. 0.]\n",
      " [0. 0. 0. 0. 0. 0. 0. 0. 0. 0. 0. 0. 0. 0. 0. 0.]\n",
      " [0. 0. 0. 0. 0. 0. 0. 0. 0. 0. 0. 0. 0. 0. 0. 0.]\n",
      " [0. 0. 0. 0. 0. 0. 0. 0. 0. 0. 0. 0. 0. 0. 0. 0.]\n",
      " [0. 0. 0. 1. 1. 1. 1. 0. 0. 0. 0. 0. 0. 0. 0. 0.]\n",
      " [0. 0. 0. 1. 1. 1. 1. 0. 0. 0. 0. 0. 0. 0. 0. 0.]\n",
      " [0. 0. 0. 1. 1. 1. 1. 0. 0. 0. 0. 0. 0. 0. 0. 0.]\n",
      " [0. 0. 0. 1. 1. 1. 1. 0. 0. 0. 0. 0. 0. 0. 0. 0.]\n",
      " [0. 0. 0. 0. 0. 0. 0. 0. 0. 0. 0. 0. 0. 0. 0. 0.]\n",
      " [0. 0. 0. 0. 0. 0. 0. 0. 0. 0. 0. 0. 0. 0. 0. 0.]\n",
      " [0. 0. 0. 0. 0. 0. 0. 0. 0. 0. 0. 0. 0. 0. 0. 0.]]\n"
     ]
    }
   ],
   "source": [
    "X_test = np.array(X_test)\n",
    "print('Shape of X: ',X_test.shape)\n",
    "print('Shape of Output Y: ',np.array(Y_label_vectors_test).shape)\n",
    "\n",
    "chp = random.choice(range(0,129))\n",
    "plt.imshow(X_test[1].reshape(1024,1024),cmap = 'gray')\n",
    "plt.show()\n",
    "plt.imshow(np.array(Y_label_vectors_test)[1,:,:].reshape(16,16),cmap = 'gray')\n",
    "plt.show()\n",
    "print(np.array(Y_label_vectors_test)[1,:,:].reshape(16,16))"
   ]
  },
  {
   "cell_type": "code",
   "execution_count": 18,
   "metadata": {},
   "outputs": [],
   "source": [
    "import keras.backend as K\n",
    "K.clear_session()\n",
    "input_shape = (1024,1024,1)"
   ]
  },
  {
   "cell_type": "code",
   "execution_count": 19,
   "metadata": {},
   "outputs": [
    {
     "name": "stdout",
     "output_type": "stream",
     "text": [
      "WARNING:tensorflow:From /home/ubuntu/anaconda3/envs/tensorflow_p36/lib/python3.6/site-packages/tensorflow/python/framework/op_def_library.py:263: colocate_with (from tensorflow.python.framework.ops) is deprecated and will be removed in a future version.\n",
      "Instructions for updating:\n",
      "Colocations handled automatically by placer.\n",
      "_________________________________________________________________\n",
      "Layer (type)                 Output Shape              Param #   \n",
      "=================================================================\n",
      "conv2d_1 (Conv2D)            (None, 1024, 1024, 32)    320       \n",
      "_________________________________________________________________\n",
      "batch_normalization_1 (Batch (None, 1024, 1024, 32)    128       \n",
      "_________________________________________________________________\n",
      "conv2d_2 (Conv2D)            (None, 1024, 1024, 32)    9248      \n",
      "_________________________________________________________________\n",
      "batch_normalization_2 (Batch (None, 1024, 1024, 32)    128       \n",
      "_________________________________________________________________\n",
      "conv2d_3 (Conv2D)            (None, 1024, 1024, 32)    9248      \n",
      "_________________________________________________________________\n",
      "batch_normalization_3 (Batch (None, 1024, 1024, 32)    128       \n",
      "_________________________________________________________________\n",
      "max_pooling2d_1 (MaxPooling2 (None, 512, 512, 32)      0         \n",
      "_________________________________________________________________\n",
      "conv2d_4 (Conv2D)            (None, 512, 512, 64)      18496     \n",
      "_________________________________________________________________\n",
      "batch_normalization_4 (Batch (None, 512, 512, 64)      256       \n",
      "_________________________________________________________________\n",
      "conv2d_5 (Conv2D)            (None, 512, 512, 64)      36928     \n",
      "_________________________________________________________________\n",
      "batch_normalization_5 (Batch (None, 512, 512, 64)      256       \n",
      "_________________________________________________________________\n",
      "conv2d_6 (Conv2D)            (None, 512, 512, 64)      36928     \n",
      "_________________________________________________________________\n",
      "batch_normalization_6 (Batch (None, 512, 512, 64)      256       \n",
      "_________________________________________________________________\n",
      "max_pooling2d_2 (MaxPooling2 (None, 256, 256, 64)      0         \n",
      "_________________________________________________________________\n",
      "conv2d_7 (Conv2D)            (None, 256, 256, 128)     73856     \n",
      "_________________________________________________________________\n",
      "batch_normalization_7 (Batch (None, 256, 256, 128)     512       \n",
      "_________________________________________________________________\n",
      "conv2d_8 (Conv2D)            (None, 256, 256, 128)     147584    \n",
      "_________________________________________________________________\n",
      "batch_normalization_8 (Batch (None, 256, 256, 128)     512       \n",
      "_________________________________________________________________\n",
      "conv2d_9 (Conv2D)            (None, 256, 256, 128)     147584    \n",
      "_________________________________________________________________\n",
      "batch_normalization_9 (Batch (None, 256, 256, 128)     512       \n",
      "_________________________________________________________________\n",
      "max_pooling2d_3 (MaxPooling2 (None, 128, 128, 128)     0         \n",
      "_________________________________________________________________\n",
      "conv2d_10 (Conv2D)           (None, 128, 128, 256)     295168    \n",
      "_________________________________________________________________\n",
      "batch_normalization_10 (Batc (None, 128, 128, 256)     1024      \n",
      "_________________________________________________________________\n",
      "conv2d_11 (Conv2D)           (None, 128, 128, 256)     590080    \n",
      "_________________________________________________________________\n",
      "batch_normalization_11 (Batc (None, 128, 128, 256)     1024      \n",
      "_________________________________________________________________\n",
      "conv2d_12 (Conv2D)           (None, 128, 128, 256)     590080    \n",
      "_________________________________________________________________\n",
      "batch_normalization_12 (Batc (None, 128, 128, 256)     1024      \n",
      "_________________________________________________________________\n",
      "max_pooling2d_4 (MaxPooling2 (None, 32, 32, 256)       0         \n",
      "_________________________________________________________________\n",
      "conv2d_13 (Conv2D)           (None, 32, 32, 128)       295040    \n",
      "_________________________________________________________________\n",
      "batch_normalization_13 (Batc (None, 32, 32, 128)       512       \n",
      "_________________________________________________________________\n",
      "max_pooling2d_5 (MaxPooling2 (None, 16, 16, 128)       0         \n",
      "_________________________________________________________________\n",
      "conv2d_14 (Conv2D)           (None, 16, 16, 64)        73792     \n",
      "_________________________________________________________________\n",
      "batch_normalization_14 (Batc (None, 16, 16, 64)        256       \n",
      "_________________________________________________________________\n",
      "conv2d_15 (Conv2D)           (None, 16, 16, 32)        18464     \n",
      "_________________________________________________________________\n",
      "batch_normalization_15 (Batc (None, 16, 16, 32)        128       \n",
      "_________________________________________________________________\n",
      "conv2d_16 (Conv2D)           (None, 16, 16, 16)        4624      \n",
      "_________________________________________________________________\n",
      "batch_normalization_16 (Batc (None, 16, 16, 16)        64        \n",
      "_________________________________________________________________\n",
      "conv2d_17 (Conv2D)           (None, 16, 16, 8)         1160      \n",
      "_________________________________________________________________\n",
      "batch_normalization_17 (Batc (None, 16, 16, 8)         32        \n",
      "_________________________________________________________________\n",
      "output (Conv2D)              (None, 16, 16, 1)         73        \n",
      "=================================================================\n",
      "Total params: 2,355,425\n",
      "Trainable params: 2,352,049\n",
      "Non-trainable params: 3,376\n",
      "_________________________________________________________________\n"
     ]
    }
   ],
   "source": [
    "\n",
    "model = Sequential([\n",
    "    Conv2D(32, (3, 3),strides = (1,1), input_shape=input_shape, padding='same',activation='relu'),\n",
    "    BatchNormalization(axis = -1),\n",
    "    \n",
    "    Conv2D(32, (3, 3),strides = (1,1), padding='same',activation='relu'),\n",
    "    BatchNormalization(axis = -1),\n",
    "    \n",
    "    Conv2D(32, (3, 3),strides = (1,1),padding='same',activation='relu'),\n",
    "    BatchNormalization(axis = -1),\n",
    "    MaxPooling2D(pool_size=(2, 2), strides=None, padding='valid', data_format=None) ,   \n",
    "    \n",
    "    \n",
    "    Conv2D(64, (3, 3),strides = (1,1), padding='same',activation='relu'),\n",
    "    BatchNormalization(axis = -1),\n",
    "    \n",
    "    Conv2D(64, (3, 3),strides = (1,1), padding='same',activation='relu'),\n",
    "    BatchNormalization(axis = -1),\n",
    "    \n",
    "    Conv2D(64, (3, 3),strides = (1,1),padding='same',activation='relu'),\n",
    "    BatchNormalization(axis = -1),\n",
    "    MaxPooling2D(pool_size=(2, 2), strides=None, padding='valid', data_format=None)  ,\n",
    "    \n",
    "    \n",
    "    \n",
    "    Conv2D(128, (3, 3),strides = (1,1),padding='same',activation='relu'),\n",
    "    BatchNormalization(axis = -1),\n",
    "    \n",
    "    Conv2D(128, (3, 3),strides = (1,1),padding='same',activation='relu'),\n",
    "    BatchNormalization(axis = -1),\n",
    "    \n",
    "    Conv2D(128, (3, 3),strides = (1,1), padding='same',activation='relu'),\n",
    "    BatchNormalization(axis = -1),\n",
    "    MaxPooling2D(pool_size=(2, 2), strides=None, padding='valid', data_format=None) ,\n",
    "\n",
    "    \n",
    "    Conv2D(256, (3, 3),strides = (1,1),padding='same',activation='relu'),\n",
    "    BatchNormalization(axis = -1),\n",
    "     \n",
    "    Conv2D(256, (3, 3),strides = (1,1),padding='same',activation='relu'),\n",
    "    BatchNormalization(axis = -1),\n",
    "     \n",
    "    Conv2D(256, (3, 3),strides = (1,1),padding='same',activation='relu'),\n",
    "    BatchNormalization(axis = -1),\n",
    "    MaxPooling2D(pool_size=(4, 4), strides=None, padding='valid', data_format=None) ,\n",
    "\n",
    "    \n",
    "    Conv2D(128, (3, 3),strides = (1,1),padding='same',activation='relu'),\n",
    "    BatchNormalization(axis = -1),\n",
    "    MaxPooling2D(pool_size=(2, 2), strides=None, padding='valid', data_format=None) ,\n",
    "    \n",
    "    Conv2D(64, (3, 3),strides = (1,1),padding='same',activation='relu'),\n",
    "    BatchNormalization(axis = -1),\n",
    "\n",
    "    \n",
    "    Conv2D(32, (3, 3),strides = (1,1),padding='same',activation='relu'),\n",
    "    BatchNormalization(axis = -1),\n",
    "    \n",
    "    Conv2D(16, (3, 3),strides = (1,1),padding='same',activation='relu'),\n",
    "    BatchNormalization(axis = -1),\n",
    "    \n",
    "    Conv2D(8, (3, 3),strides = (1,1),padding='same',activation='relu'),\n",
    "    BatchNormalization(axis = -1),\n",
    "    \n",
    "    Conv2D(1, (3, 3),strides = (1,1),padding='same',activation='sigmoid',name = 'output'),\n",
    "    \n",
    "])\n",
    "\n",
    "model.summary()"
   ]
  },
  {
   "cell_type": "code",
   "execution_count": 20,
   "metadata": {},
   "outputs": [],
   "source": [
    "#Cos-loss, not working\n",
    "def loss_cosinesimilarity_entire(y_true,y_pred):\n",
    "    return keras.losses.cosine_proximity(y_true, y_pred)"
   ]
  },
  {
   "cell_type": "code",
   "execution_count": 21,
   "metadata": {},
   "outputs": [],
   "source": [
    "# square error\n",
    "def mean_squared_error(y_true, y_pred):\n",
    "    return K.mean(K.square(y_pred - y_true), axis=-1)"
   ]
  },
  {
   "cell_type": "code",
   "execution_count": 22,
   "metadata": {},
   "outputs": [],
   "source": [
    "#Calculate cosine similarity. As 2 most similar vector results in cos similarity of 1, 1-cos.similar as output\n",
    "def cos_distance(y_true, y_pred):\n",
    "    y_true = K.l2_normalize(y_true, axis=-1)\n",
    "    y_pred = K.l2_normalize(y_pred, axis=-1)\n",
    "    return K.mean(1 - K.sum((y_true * y_pred), axis=-1))"
   ]
  },
  {
   "cell_type": "code",
   "execution_count": 23,
   "metadata": {},
   "outputs": [],
   "source": [
    "def loss_myconv_entire(y_true,y_pred):\n",
    "    \n",
    "    y_true_flat_layer0 = K.flatten(y_true[:,:,:,0])\n",
    "    y_pred_flat_layer0 = K.flatten(y_pred[:,:,:,0])\n",
    "    \n",
    "    #Logistic loss for the probabilities \n",
    "    logistic_loss = K.sum(-y_true_flat_layer0*(K.log(y_pred_flat_layer0)) - \\\n",
    "                          (1-y_true_flat_layer0)*(K.log(1-y_pred_flat_layer0)))\n",
    "    return logistic_loss"
   ]
  },
  {
   "cell_type": "code",
   "execution_count": 24,
   "metadata": {},
   "outputs": [
    {
     "name": "stdout",
     "output_type": "stream",
     "text": [
      "[[0.         0.         0.        ]\n",
      " [1.         0.57735027 0.57735027]\n",
      " [0.40824829 0.         0.        ]]\n",
      "2.5629488288431146\n"
     ]
    }
   ],
   "source": [
    "#testing\n",
    "from sklearn.metrics.pairwise import cosine_similarity\n",
    "matric1 = np.array([0,0,0,0,1,1,1,0,0,1,0,1])\n",
    "matric2 = np.array([1,1,1,0,0,0,1,0,1,0,0,0])\n",
    "matric1 = np.reshape(matric1,(3,4))\n",
    "matric2 = np.reshape(matric2,(3,4))\n",
    "cos_matrix = cosine_similarity(matric1,matric2)\n",
    "k = np.sum(cos_matrix)\n",
    "print(cos_matrix)\n",
    "print(k)"
   ]
  },
  {
   "cell_type": "code",
   "execution_count": 25,
   "metadata": {},
   "outputs": [],
   "source": [
    "#call back function\n",
    "class LossHistory(keras.callbacks.Callback):\n",
    "    def on_train_begin(self, logs={}):\n",
    "        self.loss = []\n",
    "        self.val_acc =[]\n",
    "        self.acc = []\n",
    "        \n",
    "    def on_batch_end(self, batch, logs={}):\n",
    "        self.loss.append(logs.get('loss'))\n",
    "        \n",
    "    def on_epoch_end(self, epoch, logs):\n",
    "        \n",
    "        self.val_acc.append(logs.get('val_acc'))\n",
    "        self.acc.append(logs.get('acc'))\n",
    "    \n",
    "    \n",
    "# Create an instance of the history callback\n",
    "history_cb = LossHistory()"
   ]
  },
  {
   "cell_type": "code",
   "execution_count": 26,
   "metadata": {},
   "outputs": [
    {
     "name": "stdout",
     "output_type": "stream",
     "text": [
      "(850, 16, 16, 1)\n"
     ]
    }
   ],
   "source": [
    "k = np.array(Y_label_vectors)\n",
    "print(k.shape)"
   ]
  },
  {
   "cell_type": "code",
   "execution_count": 22,
   "metadata": {},
   "outputs": [],
   "source": [
    "# Load model weights\n",
    "json_string = pickle.load(open( \"my_final_model.pkl\", \"rb\" ) )\n",
    "model_ = model_from_json(json_string)\n",
    "model.load_weights('my_final_model_weights')\n",
    "\n",
    "loss = pickle.load(open('my_final_loss.pkl','rb'))"
   ]
  },
  {
   "cell_type": "code",
   "execution_count": 27,
   "metadata": {},
   "outputs": [
    {
     "name": "stdout",
     "output_type": "stream",
     "text": [
      "Compiled\n",
      "WARNING:tensorflow:From /home/ubuntu/anaconda3/envs/tensorflow_p36/lib/python3.6/site-packages/tensorflow/python/ops/math_ops.py:3066: to_int32 (from tensorflow.python.ops.math_ops) is deprecated and will be removed in a future version.\n",
      "Instructions for updating:\n",
      "Use tf.cast instead.\n",
      "Train on 850 samples, validate on 129 samples\n",
      "Epoch 1/5\n",
      "850/850 [==============================] - 3488s 4s/step - loss: 0.0712 - val_loss: 0.0596\n",
      "Epoch 2/5\n",
      "850/850 [==============================] - 3475s 4s/step - loss: 0.0635 - val_loss: 0.0564\n",
      "Epoch 3/5\n",
      "850/850 [==============================] - 3474s 4s/step - loss: 0.0624 - val_loss: 0.0564\n",
      "Epoch 4/5\n",
      "850/850 [==============================] - 3477s 4s/step - loss: 0.0618 - val_loss: 0.0555\n",
      "Epoch 5/5\n",
      "850/850 [==============================] - 3476s 4s/step - loss: 0.0617 - val_loss: 0.0542\n",
      "Fitted\n"
     ]
    }
   ],
   "source": [
    "#Complilation and fitting\n",
    "opt= optimizers.Adam(lr = 0.005)\n",
    "batch_size = 1\n",
    "model.compile(loss='mean_squared_error', optimizer=opt)\n",
    "print('Compiled')\n",
    "\n",
    "model.fit(np.array(X), np.array(Y_label_vectors), batch_size=batch_size, epochs=5, verbose=1, validation_data=(np.array(X_test), np.array(Y_label_vectors_test)), callbacks = [history_cb])\n",
    "print('Fitted')"
   ]
  },
  {
   "cell_type": "code",
   "execution_count": 87,
   "metadata": {},
   "outputs": [],
   "source": [
    "#Save model weights\n",
    "model.save('my_final_model_800pics.h5')\n",
    "json_string = model.to_json()\n",
    "model.save_weights('my_final_model_weights_800pics')\n",
    "\n",
    "with open('my_final_model_800pics.pkl', 'wb') as jm:\n",
    "    pickle.dump(json_string, jm)\n",
    "\n",
    "with open('my_final_loss_800pics.pkl', 'wb') as lo:\n",
    "    pickle.dump(history_cb.loss, lo)"
   ]
  },
  {
   "cell_type": "code",
   "execution_count": 186,
   "metadata": {},
   "outputs": [],
   "source": [
    "loss = pickle.load(open('my_final_loss.pkl','rb'))"
   ]
  },
  {
   "cell_type": "code",
   "execution_count": 60,
   "metadata": {},
   "outputs": [
    {
     "data": {
      "image/png": "[encoded data removed]",
      "text/plain": [
       "<Figure size 432x288 with 1 Axes>"
      ]
     },
     "metadata": {},
     "output_type": "display_data"
    }
   ],
   "source": [
    "ntr = X.shape[0]\n",
    "#epochs = [0,1,2,3,4,5,6,7,8,9]\n",
    "#list_loss=[history_cb.loss[0],history_cb.loss[1250],history_cb.loss[20],history_cb.loss[1700],history_cb.loss[700],history_cb.loss[30],history_cb.loss[31],history_cb.loss[32],history_cb.loss[33],history_cb.loss[34]]\n",
    "plt.plot(steps,history_cb.loss)\n",
    "#print(history_cb.loss)\n",
    "# plt.semilogy(losses)\n",
    "plt.ylabel('Loss')\n",
    "plt.xlabel('Step')\n",
    "plt.title('Loss vs Step')\n",
    "plt.show()"
   ]
  },
  {
   "cell_type": "code",
   "execution_count": 113,
   "metadata": {},
   "outputs": [
    {
     "data": {
      "image/png": "[encoded data removed]",
      "text/plain": [
       "<Figure size 432x288 with 1 Axes>"
      ]
     },
     "metadata": {},
     "output_type": "display_data"
    },
    {
     "data": {
      "image/png": "[encoded data removed]",
      "text/plain": [
       "<Figure size 432x288 with 1 Axes>"
      ]
     },
     "metadata": {},
     "output_type": "display_data"
    }
   ],
   "source": [
    "#testing\n",
    "#choosing a random image\n",
    "n = random.choice(range(0,100))\n",
    "\n",
    "#predicting for the image with the trained model\n",
    "yout = model.predict(X_test[n:n+1])\n",
    "#print(yout)\n",
    "\n",
    "#Plotting predicted output\n",
    "plt.imshow(yout.reshape(16,16),cmap = 'gray')\n",
    "plt.title('Predicted Output Y: Heat Map')\n",
    "plt.show()\n",
    "#print(yout)\n",
    "# #Plotting Ground truth/Actual output\n",
    "plt.imshow(np.array(Y_label_vectors_test)[n:n+1,:,:].reshape(16,16),cmap = 'gray')\n",
    "plt.title('Ground truth Output Y')\n",
    "plt.show()"
   ]
  },
  {
   "cell_type": "markdown",
   "metadata": {},
   "source": [
    "#Evaluation\n",
    "Calculated Overall Precision"
   ]
  },
  {
   "cell_type": "code",
   "execution_count": 90,
   "metadata": {},
   "outputs": [],
   "source": [
    "#Precision\n",
    "def precision_ind_image(index):\n",
    "    yout = model.predict(X_test[index:index+1])\n",
    "    sum_all_max=np.sum(yout)\n",
    "    sum_all_min = np.sum(np.minimum(yout,np.array(Y_label_vectors_test)[index:index+1,:,:]))\n",
    "    precision_index =sum_all_min/sum_all_max\n",
    "    return precision_index"
   ]
  },
  {
   "cell_type": "code",
   "execution_count": 91,
   "metadata": {
    "scrolled": true
   },
   "outputs": [
    {
     "name": "stdout",
     "output_type": "stream",
     "text": [
      "0.17268795485609637\n"
     ]
    }
   ],
   "source": [
    "#strict Precision\n",
    "total_precision = 0\n",
    "for i in range(129):\n",
    "    total_precision+=precision_ind_image(i)\n",
    "confidence_all_area_precision = total_precision/129\n",
    "print(confidence_all_area_precision)"
   ]
  },
  {
   "cell_type": "markdown",
   "metadata": {},
   "source": [
    "Precision: Bigger Bbox"
   ]
  },
  {
   "cell_type": "code",
   "execution_count": 92,
   "metadata": {},
   "outputs": [],
   "source": [
    "#Precision\n",
    "def accuracy_ind_image_big(index):\n",
    "    yout = model.predict(X_test[index:index+1])\n",
    "    sum_all_max=np.sum(yout)\n",
    "    sum_all_label = np.sum(np.array(Y_label_vectors_test)[index:index+1,:,:])\n",
    "    sum_all_min = np.sum(np.minimum(yout,np.array(Y_label_vectors_test)[index:index+1,:,:]))\n",
    "    if sum_all_label<= 6:\n",
    "        return \"too small\"\n",
    "    else:\n",
    "        accu_index = sum_all_min/sum_all_max\n",
    "        return accu_index"
   ]
  },
  {
   "cell_type": "code",
   "execution_count": 93,
   "metadata": {},
   "outputs": [
    {
     "name": "stdout",
     "output_type": "stream",
     "text": [
      "0.25421317531771087\n"
     ]
    }
   ],
   "source": [
    "num =0\n",
    "total_accu = 0\n",
    "for i in range(129):\n",
    "    if accuracy_ind_image_big(i) == \"too small\":\n",
    "        pass\n",
    "    else:\n",
    "        total_accu+=accuracy_ind_image_big(i)\n",
    "        num+=1\n",
    "    confidence_bigger_area_precision = total_accu/num\n",
    "print(confidence_bigger_area_precision)"
   ]
  },
  {
   "cell_type": "markdown",
   "metadata": {},
   "source": [
    "Recall {0,1} Total"
   ]
  },
  {
   "cell_type": "code",
   "execution_count": 94,
   "metadata": {},
   "outputs": [],
   "source": [
    "#Recall normalize total\n",
    "def precision_ind_image(index):\n",
    "    yout = model.predict(X_test[index:index+1])\n",
    "    b=yout>0\n",
    "    c = b.astype(int)\n",
    "    sum_all_min = np.sum(np.minimum(c,np.array(Y_label_vectors_test)[index:index+1,:,:]))\n",
    "    sum_all_label = np.sum(np.array(Y_label_vectors_test)[index:index+1,:,:])\n",
    "    if sum_all_label == 0.0:\n",
    "        sum_all_label = 1.0\n",
    "    precision_index = sum_all_min/sum_all_label\n",
    "    return precision_index"
   ]
  },
  {
   "cell_type": "code",
   "execution_count": 95,
   "metadata": {
    "scrolled": true
   },
   "outputs": [
    {
     "name": "stdout",
     "output_type": "stream",
     "text": [
      "1.0\n"
     ]
    }
   ],
   "source": [
    "#strict precision(All Size)\n",
    "total_precision = 0\n",
    "for i in range(129):\n",
    "    total_precision+=precision_ind_image(i)\n",
    "all_area_normalize_recall = total_precision/128\n",
    "print(all_area_normalize_recall)"
   ]
  },
  {
   "cell_type": "markdown",
   "metadata": {},
   "source": [
    "#Recall with Confidence Total"
   ]
  },
  {
   "cell_type": "code",
   "execution_count": 96,
   "metadata": {},
   "outputs": [],
   "source": [
    "#Recall\n",
    "def precision_ind_image(index):\n",
    "    yout = model.predict(X_test[index:index+1])\n",
    "    sum_all_min = np.sum(np.minimum(yout,np.array(Y_label_vectors_test)[index:index+1,:,:]))\n",
    "    sum_all_label = np.sum(np.array(Y_label_vectors_test)[index:index+1,:,:])\n",
    "    if sum_all_label == 0.0:\n",
    "        sum_all_label = 1.0\n",
    "    precision_index = sum_all_min/sum_all_label\n",
    "    return precision_index"
   ]
  },
  {
   "cell_type": "code",
   "execution_count": 97,
   "metadata": {},
   "outputs": [
    {
     "name": "stdout",
     "output_type": "stream",
     "text": [
      "0.21324014176893907\n"
     ]
    }
   ],
   "source": [
    "#strict Recall(All Size)\n",
    "total_precision = 0\n",
    "for i in range(129):\n",
    "    total_precision+=precision_ind_image(i)\n",
    "all_area_confidence_recall = total_precision/128\n",
    "print(all_area_confidence_recall)"
   ]
  },
  {
   "cell_type": "markdown",
   "metadata": {},
   "source": [
    "#Recall {0,1} >area"
   ]
  },
  {
   "cell_type": "code",
   "execution_count": 98,
   "metadata": {},
   "outputs": [],
   "source": [
    "#Recall Larger Size\n",
    "def precision_ind_image(index):\n",
    "    yout = model.predict(X_test[index:index+1])\n",
    "    b=yout>0\n",
    "    c = b.astype(int)\n",
    "    sum_all_min = np.sum(np.minimum(yout,np.array(Y_label_vectors_test)[index:index+1,:,:]))\n",
    "    sum_all_label = np.sum(np.array(Y_label_vectors_test)[index:index+1,:,:])\n",
    "    if sum_all_label <= 6:\n",
    "        return \"too small\"\n",
    "    else:\n",
    "        precision_index = sum_all_min/sum_all_label\n",
    "        return precision_index"
   ]
  },
  {
   "cell_type": "code",
   "execution_count": 99,
   "metadata": {},
   "outputs": [
    {
     "name": "stdout",
     "output_type": "stream",
     "text": [
      "0.24043279647293983\n"
     ]
    }
   ],
   "source": [
    "#strict Recall(All Size)\n",
    "total_precision = 0\n",
    "num =0\n",
    "for i in range(129):\n",
    "    if precision_ind_image(i) == \"too small\":\n",
    "        pass\n",
    "    else:\n",
    "        total_precision+=precision_ind_image(i)\n",
    "        num+=1\n",
    "larger_normalize_recall = total_precision/num\n",
    "print(larger_normalize_recall)"
   ]
  },
  {
   "cell_type": "markdown",
   "metadata": {},
   "source": [
    "#Recall with Confidence > Area"
   ]
  },
  {
   "cell_type": "code",
   "execution_count": 88,
   "metadata": {},
   "outputs": [],
   "source": [
    "#Recall Larger Size\n",
    "def precision_ind_image(index):\n",
    "    yout = model.predict(X_test[index:index+1])\n",
    "    sum_all_min = np.sum(np.minimum(yout,np.array(Y_label_vectors_test)[index:index+1,:,:]))\n",
    "    sum_all_label = np.sum(np.array(Y_label_vectors_test)[index:index+1,:,:])\n",
    "    if sum_all_label <= 6:\n",
    "        return \"too small\"\n",
    "    else:\n",
    "        precision_index = sum_all_min/sum_all_label\n",
    "        return precision_index"
   ]
  },
  {
   "cell_type": "code",
   "execution_count": 89,
   "metadata": {},
   "outputs": [
    {
     "name": "stdout",
     "output_type": "stream",
     "text": [
      "0.24043279647293983\n"
     ]
    }
   ],
   "source": [
    "#strict Recall(Larger Size)\n",
    "total_precision = 0\n",
    "num =0\n",
    "for i in range(129):\n",
    "    if precision_ind_image(i) == \"too small\":\n",
    "        pass\n",
    "    else:\n",
    "        total_precision+=precision_ind_image(i)\n",
    "        num+=1\n",
    "larger_confidence_recall = total_precision/num\n",
    "print(larger_confidence_recall)"
   ]
  },
  {
   "cell_type": "code",
   "execution_count": 100,
   "metadata": {},
   "outputs": [
    {
     "name": "stdout",
     "output_type": "stream",
     "text": [
      "0.19083349617366696\n"
     ]
    }
   ],
   "source": [
    "#F 1 Measure\n",
    "#All Area Confidence F-1\n",
    "f_1_measure = 2*all_area_confidence_recall*confidence_all_area_precision/(confidence_all_area_precision+all_area_confidence_recall)\n",
    "print(f_1_measure)"
   ]
  },
  {
   "cell_type": "code",
   "execution_count": 101,
   "metadata": {},
   "outputs": [
    {
     "name": "stdout",
     "output_type": "stream",
     "text": [
      "0.24713103159676109\n"
     ]
    }
   ],
   "source": [
    "#Large Area Confidence F-1\n",
    "f_1_measure = 2*larger_confidence_recall*confidence_bigger_area_precision/(confidence_bigger_area_precision+larger_confidence_recall)\n",
    "print(f_1_measure)"
   ]
  },
  {
   "cell_type": "code",
   "execution_count": null,
   "metadata": {},
   "outputs": [],
   "source": []
  }
 ],
 "metadata": {
  "kernelspec": {
   "display_name": "Python 3",
   "language": "python",
   "name": "python3"
  },
  "language_info": {
   "codemirror_mode": {
    "name": "ipython",
    "version": 3
   },
   "file_extension": ".py",
   "mimetype": "text/x-python",
   "name": "python",
   "nbconvert_exporter": "python",
   "pygments_lexer": "ipython3",
   "version": "3.6.5"
  }
 },
 "nbformat": 4,
 "nbformat_minor": 2
}
