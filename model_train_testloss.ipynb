{
 "cells": [
  {
   "cell_type": "code",
   "execution_count": 1,
   "metadata": {},
   "outputs": [
    {
     "name": "stderr",
     "output_type": "stream",
     "text": [
      "Using TensorFlow backend.\n"
     ]
    },
    {
     "name": "stdout",
     "output_type": "stream",
     "text": [
      "Image ordering is tf check:  tf\n"
     ]
    }
   ],
   "source": [
    "import xml.etree.ElementTree as ET\n",
    "import matplotlib.pyplot as plt\n",
    "import glob\n",
    "import pickle\n",
    "import numpy as np\n",
    "import sys, os\n",
    "import pylab\n",
    "import time \n",
    "import scipy.misc\n",
    "import matplotlib\n",
    "import re\n",
    "from PIL import Image\n",
    "\n",
    "import keras\n",
    "from keras.models import Sequential\n",
    "from keras.models import Model\n",
    "from keras.layers import Dense, Activation, Flatten, Lambda,Input, concatenate, Conv2DTranspose\n",
    "from keras.layers import Conv2D, MaxPooling2D, BatchNormalization \n",
    "from keras.utils import np_utils \n",
    "from keras import optimizers \n",
    "from keras.models import load_model\n",
    "from keras.models import model_from_json\n",
    "\n",
    "import keras.backend as K \n",
    "K.set_image_dim_ordering('tf')\n",
    "print('Image ordering is tf check: ',K.image_dim_ordering())\n",
    "list_of_losses = []"
   ]
  },
  {
   "cell_type": "code",
   "execution_count": 2,
   "metadata": {},
   "outputs": [
    {
     "name": "stdout",
     "output_type": "stream",
     "text": [
      "[['00013118_008.png', '1024', '1024', 'Atelectasis', '225.084745762712', '547.019216763771', '311.8644067796611', '626.2056574417371'], ['00014716_007.png', '1024', '1024', 'Atelectasis', '686.101694915254', '131.543498411017', '871.593220338983', '445.03502383474597'], ['00029817_009.png', '1024', '1024', 'Atelectasis', '221.830508474576', '317.053115068856', '376.949152542373', '534.0022676112291'], ['00014687_001.png', '1024', '1024', 'Atelectasis', '726.237288135593', '494.951420153602', '867.254237288135', '550.273454051907'], ['00017877_001.png', '1024', '1024', 'Atelectasis', '660.067796610169', '569.78078654661', '860.745762711864', '647.8824814618642']]\n",
      "984\n"
     ]
    }
   ],
   "source": [
    "import csv\n",
    "bbox_path = 'formatted_csv.csv'\n",
    "csv_as_list = []\n",
    "with open(bbox_path) as csvfile:\n",
    "    readCSV = csv.reader(csvfile, delimiter=',')\n",
    "    for row in readCSV:\n",
    "        csv_as_list.append(row)\n",
    "csv_as_list = csv_as_list[1:]\n",
    "print(csv_as_list[:5])\n",
    "print(len(csv_as_list))"
   ]
  },
  {
   "cell_type": "code",
   "execution_count": 3,
   "metadata": {},
   "outputs": [],
   "source": [
    "disease_label_dict = {\"Infiltrate\":0,\"Mass\":1,\"Nodule\":2,\"Cardiomegaly\":3,\"Atelectasis\":4,\"Effusion\":5,\"Pneumonia\":6,\"Pneumothorax\":7}"
   ]
  },
  {
   "cell_type": "code",
   "execution_count": 4,
   "metadata": {},
   "outputs": [
    {
     "name": "stdout",
     "output_type": "stream",
     "text": [
      "714\n"
     ]
    }
   ],
   "source": [
    "#train/test split\n",
    "train_csv_output = []\n",
    "train_name = os.listdir(\"train/\")\n",
    "for information in csv_as_list:\n",
    "    if information[0] in train_name:\n",
    "        train_csv_output.append(information)\n",
    "print(len(train_csv_output))"
   ]
  },
  {
   "cell_type": "code",
   "execution_count": 5,
   "metadata": {},
   "outputs": [
    {
     "name": "stdout",
     "output_type": "stream",
     "text": [
      "129\n"
     ]
    }
   ],
   "source": [
    "#train/test split\n",
    "test_csv_output = []\n",
    "test_name = os.listdir(\"test/\")\n",
    "for information in csv_as_list:\n",
    "    if information[0] in test_name:\n",
    "        test_csv_output.append(information)\n",
    "print(len(test_csv_output))"
   ]
  },
  {
   "cell_type": "code",
   "execution_count": 6,
   "metadata": {},
   "outputs": [
    {
     "name": "stdout",
     "output_type": "stream",
     "text": [
      "[[  0   1   3 ...   3   4   4]\n",
      " [  0   2   5 ...   5   6   7]\n",
      " [  0   2   5 ...   5   6   7]\n",
      " ...\n",
      " [  0  12  41 ... 151 151 162]\n",
      " [  0   8  27 ... 131 131 133]\n",
      " [  0   0   0 ...   0   0   0]]\n",
      "1024\n",
      "1024\n",
      "(1024, 1024)\n"
     ]
    },
    {
     "name": "stderr",
     "output_type": "stream",
     "text": [
      "/home/ubuntu/anaconda3/envs/tensorflow_p36/lib/python3.6/site-packages/ipykernel_launcher.py:1: DeprecationWarning: `imread` is deprecated!\n",
      "`imread` is deprecated in SciPy 1.0.0, and will be removed in 1.2.0.\n",
      "Use ``imageio.imread`` instead.\n",
      "  \"\"\"Entry point for launching an IPython kernel.\n"
     ]
    },
    {
     "data": {
      "text/plain": [
       "array([[[  0],\n",
       "        [  1],\n",
       "        [  3],\n",
       "        ...,\n",
       "        [  3],\n",
       "        [  4],\n",
       "        [  4]],\n",
       "\n",
       "       [[  0],\n",
       "        [  2],\n",
       "        [  5],\n",
       "        ...,\n",
       "        [  5],\n",
       "        [  6],\n",
       "        [  7]],\n",
       "\n",
       "       [[  0],\n",
       "        [  2],\n",
       "        [  5],\n",
       "        ...,\n",
       "        [  5],\n",
       "        [  6],\n",
       "        [  7]],\n",
       "\n",
       "       ...,\n",
       "\n",
       "       [[  0],\n",
       "        [ 12],\n",
       "        [ 41],\n",
       "        ...,\n",
       "        [151],\n",
       "        [151],\n",
       "        [162]],\n",
       "\n",
       "       [[  0],\n",
       "        [  8],\n",
       "        [ 27],\n",
       "        ...,\n",
       "        [131],\n",
       "        [131],\n",
       "        [133]],\n",
       "\n",
       "       [[  0],\n",
       "        [  0],\n",
       "        [  0],\n",
       "        ...,\n",
       "        [  0],\n",
       "        [  0],\n",
       "        [  0]]], dtype=uint8)"
      ]
     },
     "execution_count": 6,
     "metadata": {},
     "output_type": "execute_result"
    }
   ],
   "source": [
    "img = scipy.misc.imread(os.path.join(\"train/\",csv_as_list[1][0]))\n",
    "print(img)\n",
    "print(len(img))\n",
    "print(len(img[0]))\n",
    "print(img.shape)\n",
    "img.reshape(1024,1024,1)"
   ]
  },
  {
   "cell_type": "code",
   "execution_count": 7,
   "metadata": {},
   "outputs": [
    {
     "name": "stderr",
     "output_type": "stream",
     "text": [
      "/home/ubuntu/anaconda3/envs/tensorflow_p36/lib/python3.6/site-packages/ipykernel_launcher.py:22: DeprecationWarning: `imread` is deprecated!\n",
      "`imread` is deprecated in SciPy 1.0.0, and will be removed in 1.2.0.\n",
      "Use ``imageio.imread`` instead.\n"
     ]
    },
    {
     "name": "stdout",
     "output_type": "stream",
     "text": [
      "Collected 100 Images and labels\n",
      "Collected 200 Images and labels\n",
      "Collected 300 Images and labels\n",
      "Collected 400 Images and labels\n",
      "Collected 500 Images and labels\n",
      "Collected 600 Images and labels\n",
      "Collected 700 Images and labels\n"
     ]
    }
   ],
   "source": [
    "Y = np.zeros((1,16,16))\n",
    "Y_backup = np.zeros((1,16,16))\n",
    "Y_label_vectors = []\n",
    "classification_labels = []\n",
    "X = []\n",
    "\n",
    "#Randomizing the images\n",
    "select_images = np.random.permutation(714)\n",
    "select_images[0:10]\n",
    "\n",
    "N_img = 1\n",
    "\n",
    "for i in select_images: #the random output index\n",
    "    img_name = train_csv_output[i][0]\n",
    "    xmin = float(train_csv_output[i][4])\n",
    "    ymin = float(train_csv_output[i][5])\n",
    "    xmax = float(train_csv_output[i][6])\n",
    "    ymax = float(train_csv_output[i][7])\n",
    "    disease_label = train_csv_output[i][3]\n",
    "    \n",
    "    #Loading the image\n",
    "    img = scipy.misc.imread(os.path.join(\"train/\",img_name))\n",
    "    \n",
    "    #print(img.shape)\n",
    "    \n",
    "    #Bounding box dimensions \n",
    "    avg_x = (xmin+xmax)/2\n",
    "    avg_y = (ymin+ymax)/2\n",
    "    bh = ymax - ymin\n",
    "    bw = xmax - xmin\n",
    "    \n",
    "    #Starting pixel values for 64x64 window sliding through the 1024 by 1024 image (16*16)\n",
    "    nx = 0 \n",
    "    ny = 0 \n",
    "    #Moving horizontally through the original image\n",
    "    \n",
    "    for yaxis in range(0,16):\n",
    "        #Starting sliding window from left side of the image \n",
    "        nx = 0 \n",
    "        for xaxis in range(0,16): \n",
    "            \n",
    "            #64 by 64 sub-image \n",
    "            window = img[ny:ny+64, nx:nx+64]\n",
    "            #window starting and ending pixel coordinates \n",
    "            startx = nx\n",
    "            starty = ny \n",
    "            endx = nx+63\n",
    "            endy = ny+63\n",
    "\n",
    "            #Checking if the center disease area is in the particular sub-image and recording the corresponding output pixel to be 1\n",
    "            if startx >= (xmin-32) and endx <= (xmax+32) and starty >= (ymin-32) and endy <= (ymax+32):   \n",
    "                #Setting output image pixel values \n",
    "                Y[0,yaxis,xaxis] = 1\n",
    "            else: \n",
    "                Y[0,yaxis,xaxis] = 0\n",
    "                \n",
    "            if avg_x >= startx and avg_x <= endx and avg_y >= starty and avg_y <= endy:\n",
    "                Y_backup[0,yaxis,xaxis] = 1\n",
    "            else: \n",
    "                Y_backup[0,yaxis,xaxis] = 0\n",
    "                \n",
    "            #Moving horizontally\n",
    "            nx = nx + 64\n",
    "        #Moving Vertically\n",
    "        ny = ny + 64\n",
    "    if np.array_equal(Y,np.zeros((1,16,16))):\n",
    "        Y = Y_backup\n",
    "    #Adding Y to the label vector \n",
    "    Y_label_vectors.append(np.transpose(Y,axes = [1,2,0]))\n",
    "    \n",
    "    #print(Y_label_vectors)\n",
    "    classification_labels.append(disease_label_dict[disease_label])\n",
    "    \n",
    "    #Adding 1024 by 1024 image to the X vector\n",
    "    X.append(img.reshape(1024,1024,1))\n",
    "\n",
    "    #Re-initializing Y for the next original image \n",
    "    Y = np.zeros((1,16,16))\n",
    "    Y_backup = np.zeros((1,16,16))\n",
    "    \n",
    "    #Keeping track of number of images\n",
    "    if N_img%100 == 0 : \n",
    "        print('Collected '+str(N_img) +' Images and labels')\n",
    "        \n",
    "    N_img+=1"
   ]
  },
  {
   "cell_type": "code",
   "execution_count": 8,
   "metadata": {
    "scrolled": true
   },
   "outputs": [
    {
     "name": "stdout",
     "output_type": "stream",
     "text": [
      "715\n"
     ]
    },
    {
     "data": {
      "text/plain": [
       "714"
      ]
     },
     "execution_count": 8,
     "metadata": {},
     "output_type": "execute_result"
    }
   ],
   "source": [
    "print(N_img)\n",
    "len(X)"
   ]
  },
  {
   "cell_type": "code",
   "execution_count": 9,
   "metadata": {},
   "outputs": [
    {
     "name": "stdout",
     "output_type": "stream",
     "text": [
      "Shape of X:  (714, 1024, 1024, 1)\n",
      "Shape of Output Y:  (714, 16, 16, 1)\n"
     ]
    },
    {
     "data": {
      "image/png": "[encoded data removed]",
      "text/plain": [
       "<Figure size 432x288 with 1 Axes>"
      ]
     },
     "metadata": {},
     "output_type": "display_data"
    },
    {
     "data": {
      "image/png": "[encoded data removed]",
      "text/plain": [
       "<Figure size 432x288 with 1 Axes>"
      ]
     },
     "metadata": {},
     "output_type": "display_data"
    }
   ],
   "source": [
    "#check data generation\n",
    "import random\n",
    "X = np.array(X)\n",
    "print('Shape of X: ',X.shape)\n",
    "print('Shape of Output Y: ',np.array(Y_label_vectors).shape)\n",
    "\n",
    "chp = random.choice(range(0,829))\n",
    "plt.imshow(X[chp].reshape(1024,1024),cmap = 'gray')\n",
    "plt.show()\n",
    "plt.imshow(np.array(Y_label_vectors)[chp,:,:,0].reshape(16,16),cmap = 'gray')\n",
    "plt.show()"
   ]
  },
  {
   "cell_type": "code",
   "execution_count": 10,
   "metadata": {},
   "outputs": [
    {
     "name": "stderr",
     "output_type": "stream",
     "text": [
      "/home/ubuntu/anaconda3/envs/tensorflow_p36/lib/python3.6/site-packages/ipykernel_launcher.py:21: DeprecationWarning: `imread` is deprecated!\n",
      "`imread` is deprecated in SciPy 1.0.0, and will be removed in 1.2.0.\n",
      "Use ``imageio.imread`` instead.\n"
     ]
    },
    {
     "name": "stdout",
     "output_type": "stream",
     "text": [
      "Collected 100 Images and labels\n"
     ]
    }
   ],
   "source": [
    "X_test =[]\n",
    "Y = np.zeros((1,16,16))\n",
    "Y_backup = np.zeros((1,16,16))\n",
    "Y_label_vectors_test=[]\n",
    "classification_test=[]\n",
    "\n",
    "#Randomizing the images\n",
    "select_images_test = np.random.permutation(129)\n",
    "\n",
    "N_img = 1\n",
    "\n",
    "for i in select_images_test: #the random output index\n",
    "    img_name = test_csv_output[i][0]\n",
    "    xmin = float(test_csv_output[i][4])\n",
    "    ymin = float(test_csv_output[i][5])\n",
    "    xmax = float(test_csv_output[i][6])\n",
    "    ymax = float(test_csv_output[i][7])\n",
    "    disease_label = test_csv_output[i][3]\n",
    "    \n",
    "    #Loading the image\n",
    "    img = scipy.misc.imread(os.path.join(\"test/\",img_name))\n",
    "    #print(img.shape)\n",
    "    \n",
    "    #Center of the nodule\n",
    "    avg_x = (xmin+xmax)/2\n",
    "    avg_y = (ymin+ymax)/2\n",
    "    bx = avg_x\n",
    "    by = avg_y\n",
    "    \n",
    "    #Bounding box dimensions \n",
    "    bh = ymax - ymin\n",
    "    bw = xmax - xmin\n",
    "    \n",
    "    #Starting pixel values for 64x64 window sliding through the 1024 by 1024 image (16*16)\n",
    "    nx = 0 \n",
    "    ny = 0 \n",
    "    #Moving horizontally through the original image\n",
    "    \n",
    "    for yaxis in range(0,16):\n",
    "        #Starting sliding window from left side of the image \n",
    "        nx = 0 \n",
    "        for xaxis in range(0,16): \n",
    "            \n",
    "            #64 by 64 sub-image \n",
    "            window = img[ny:ny+64, nx:nx+64]\n",
    "            #window starting and ending pixel coordinates \n",
    "            startx = nx\n",
    "            starty = ny \n",
    "            endx = nx+63\n",
    "            endy = ny+63\n",
    "\n",
    "            #Checking if the center disease area is in the particular sub-image and recording the corresponding output pixel to be 1\n",
    "            if startx >= (xmin-32) and endx <= (xmax+32) and starty >= (ymin-32) and endy <= (ymax+32):  \n",
    "                #Setting output image pixel values \n",
    "                Y[0,yaxis,xaxis] = 1\n",
    "            else: \n",
    "                Y[0,yaxis,xaxis] = 0\n",
    "                \n",
    "            if avg_x >= startx and avg_x <= endx and avg_y >= starty and avg_y <= endy:\n",
    "                Y_backup[0,yaxis,xaxis] = 1\n",
    "            else: \n",
    "                Y_backup[0,yaxis,xaxis] = 0\n",
    "                \n",
    "                \n",
    "            #Moving horizontally\n",
    "            nx = nx + 64\n",
    "        #Moving Vertically\n",
    "        ny = ny + 64\n",
    "    #if no area in the bbox, use the area that at the center\n",
    "    if np.array_equal(Y,np.zeros((1,16,16))):\n",
    "        Y = Y_backup\n",
    "    \n",
    "    #Adding Y to the label vector \n",
    "    Y_label_vectors_test.append(np.transpose(Y,axes = [1,2,0]))\n",
    "    \n",
    "    #print(Y_label_vectors)\n",
    "    classification_test.append(disease_label_dict[disease_label])\n",
    "    \n",
    "    #Adding 1024 by 1024 image to the X vector\n",
    "    try:\n",
    "        X_test.append(img.reshape(1024,1024,1))\n",
    "    except:\n",
    "        print(img_name)\n",
    "        \n",
    "    #Re-initializing Y for the next original image \n",
    "    Y = np.zeros((1,16,16))\n",
    "    Y_backup = np.zeros((1,16,16))\n",
    "    \n",
    "    #Keeping track of number of images\n",
    "    if N_img%100 == 0 : \n",
    "        print('Collected '+str(N_img) +' Images and labels')\n",
    "        \n",
    "    N_img+=1"
   ]
  },
  {
   "cell_type": "code",
   "execution_count": 11,
   "metadata": {},
   "outputs": [
    {
     "name": "stdout",
     "output_type": "stream",
     "text": [
      "Shape of X:  (129, 1024, 1024, 1)\n",
      "Shape of Output Y:  (129, 16, 16, 1)\n"
     ]
    },
    {
     "data": {
      "image/png": "[encoded data removed]",
      "text/plain": [
       "<Figure size 432x288 with 1 Axes>"
      ]
     },
     "metadata": {},
     "output_type": "display_data"
    },
    {
     "data": {
      "image/png": "[encoded data removed]",
      "text/plain": [
       "<Figure size 432x288 with 1 Axes>"
      ]
     },
     "metadata": {},
     "output_type": "display_data"
    }
   ],
   "source": [
    "X_test = np.array(X_test)\n",
    "print('Shape of X: ',X_test.shape)\n",
    "print('Shape of Output Y: ',np.array(Y_label_vectors_test).shape)\n",
    "\n",
    "chp = random.choice(range(0,129))\n",
    "plt.imshow(X_test[chp].reshape(1024,1024),cmap = 'gray')\n",
    "plt.show()\n",
    "plt.imshow(np.array(Y_label_vectors_test)[chp,:,:,0].reshape(16,16),cmap = 'gray')\n",
    "plt.show()"
   ]
  },
  {
   "cell_type": "code",
   "execution_count": 12,
   "metadata": {},
   "outputs": [],
   "source": [
    "import keras.backend as K\n",
    "K.clear_session()\n",
    "input_shape = (1024,1024,1)"
   ]
  },
  {
   "cell_type": "code",
   "execution_count": 13,
   "metadata": {},
   "outputs": [
    {
     "name": "stdout",
     "output_type": "stream",
     "text": [
      "WARNING:tensorflow:From /home/ubuntu/anaconda3/envs/tensorflow_p36/lib/python3.6/site-packages/tensorflow/python/framework/op_def_library.py:263: colocate_with (from tensorflow.python.framework.ops) is deprecated and will be removed in a future version.\n",
      "Instructions for updating:\n",
      "Colocations handled automatically by placer.\n",
      "_________________________________________________________________\n",
      "Layer (type)                 Output Shape              Param #   \n",
      "=================================================================\n",
      "conv2d_1 (Conv2D)            (None, 1024, 1024, 32)    320       \n",
      "_________________________________________________________________\n",
      "batch_normalization_1 (Batch (None, 1024, 1024, 32)    128       \n",
      "_________________________________________________________________\n",
      "conv2d_2 (Conv2D)            (None, 1024, 1024, 32)    9248      \n",
      "_________________________________________________________________\n",
      "batch_normalization_2 (Batch (None, 1024, 1024, 32)    128       \n",
      "_________________________________________________________________\n",
      "max_pooling2d_1 (MaxPooling2 (None, 512, 512, 32)      0         \n",
      "_________________________________________________________________\n",
      "conv2d_3 (Conv2D)            (None, 512, 512, 32)      9248      \n",
      "_________________________________________________________________\n",
      "batch_normalization_3 (Batch (None, 512, 512, 32)      128       \n",
      "_________________________________________________________________\n",
      "max_pooling2d_2 (MaxPooling2 (None, 256, 256, 32)      0         \n",
      "_________________________________________________________________\n",
      "conv2d_4 (Conv2D)            (None, 256, 256, 64)      18496     \n",
      "_________________________________________________________________\n",
      "batch_normalization_4 (Batch (None, 256, 256, 64)      256       \n",
      "_________________________________________________________________\n",
      "conv2d_5 (Conv2D)            (None, 256, 256, 64)      36928     \n",
      "_________________________________________________________________\n",
      "batch_normalization_5 (Batch (None, 256, 256, 64)      256       \n",
      "_________________________________________________________________\n",
      "conv2d_6 (Conv2D)            (None, 256, 256, 64)      36928     \n",
      "_________________________________________________________________\n",
      "batch_normalization_6 (Batch (None, 256, 256, 64)      256       \n",
      "_________________________________________________________________\n",
      "max_pooling2d_3 (MaxPooling2 (None, 128, 128, 64)      0         \n",
      "_________________________________________________________________\n",
      "conv2d_7 (Conv2D)            (None, 128, 128, 128)     73856     \n",
      "_________________________________________________________________\n",
      "batch_normalization_7 (Batch (None, 128, 128, 128)     512       \n",
      "_________________________________________________________________\n",
      "conv2d_8 (Conv2D)            (None, 128, 128, 128)     147584    \n",
      "_________________________________________________________________\n",
      "batch_normalization_8 (Batch (None, 128, 128, 128)     512       \n",
      "_________________________________________________________________\n",
      "conv2d_9 (Conv2D)            (None, 128, 128, 128)     147584    \n",
      "_________________________________________________________________\n",
      "batch_normalization_9 (Batch (None, 128, 128, 128)     512       \n",
      "_________________________________________________________________\n",
      "max_pooling2d_4 (MaxPooling2 (None, 64, 64, 128)       0         \n",
      "_________________________________________________________________\n",
      "conv2d_10 (Conv2D)           (None, 64, 64, 256)       295168    \n",
      "_________________________________________________________________\n",
      "batch_normalization_10 (Batc (None, 64, 64, 256)       1024      \n",
      "_________________________________________________________________\n",
      "conv2d_11 (Conv2D)           (None, 64, 64, 256)       590080    \n",
      "_________________________________________________________________\n",
      "batch_normalization_11 (Batc (None, 64, 64, 256)       1024      \n",
      "_________________________________________________________________\n",
      "conv2d_12 (Conv2D)           (None, 64, 64, 256)       590080    \n",
      "_________________________________________________________________\n",
      "batch_normalization_12 (Batc (None, 64, 64, 256)       1024      \n",
      "_________________________________________________________________\n",
      "max_pooling2d_5 (MaxPooling2 (None, 32, 32, 256)       0         \n",
      "_________________________________________________________________\n",
      "conv2d_13 (Conv2D)           (None, 32, 32, 128)       295040    \n",
      "_________________________________________________________________\n",
      "batch_normalization_13 (Batc (None, 32, 32, 128)       512       \n",
      "_________________________________________________________________\n",
      "max_pooling2d_6 (MaxPooling2 (None, 16, 16, 128)       0         \n",
      "_________________________________________________________________\n",
      "conv2d_14 (Conv2D)           (None, 16, 16, 64)        73792     \n",
      "_________________________________________________________________\n",
      "batch_normalization_14 (Batc (None, 16, 16, 64)        256       \n",
      "_________________________________________________________________\n",
      "conv2d_15 (Conv2D)           (None, 16, 16, 32)        18464     \n",
      "_________________________________________________________________\n",
      "batch_normalization_15 (Batc (None, 16, 16, 32)        128       \n",
      "_________________________________________________________________\n",
      "conv2d_16 (Conv2D)           (None, 16, 16, 16)        4624      \n",
      "_________________________________________________________________\n",
      "batch_normalization_16 (Batc (None, 16, 16, 16)        64        \n",
      "_________________________________________________________________\n",
      "conv2d_17 (Conv2D)           (None, 16, 16, 8)         1160      \n",
      "_________________________________________________________________\n",
      "batch_normalization_17 (Batc (None, 16, 16, 8)         32        \n",
      "_________________________________________________________________\n",
      "output (Conv2D)              (None, 16, 16, 1)         73        \n",
      "=================================================================\n",
      "Total params: 2,355,425\n",
      "Trainable params: 2,352,049\n",
      "Non-trainable params: 3,376\n",
      "_________________________________________________________________\n"
     ]
    }
   ],
   "source": [
    "model = Sequential([\n",
    "    Conv2D(32, (3, 3),strides = (1,1), input_shape=input_shape, padding='same',activation='relu'),\n",
    "    BatchNormalization(axis = -1),\n",
    "    \n",
    "    Conv2D(32, (3, 3),strides = (1,1), padding='same',activation='relu'),\n",
    "    BatchNormalization(axis = -1),\n",
    "    MaxPooling2D(pool_size=(2, 2), strides=None, padding='valid', data_format=None) ,\n",
    "    \n",
    "    Conv2D(32, (3, 3),strides = (1,1),padding='same',activation='relu'),\n",
    "    BatchNormalization(axis = -1),\n",
    "    MaxPooling2D(pool_size=(2, 2), strides=None, padding='valid', data_format=None) ,   \n",
    "    \n",
    "    \n",
    "    Conv2D(64, (3, 3),strides = (1,1), padding='same',activation='relu'),\n",
    "    BatchNormalization(axis = -1),\n",
    "    \n",
    "    Conv2D(64, (3, 3),strides = (1,1), padding='same',activation='relu'),\n",
    "    BatchNormalization(axis = -1),\n",
    "    \n",
    "    Conv2D(64, (3, 3),strides = (1,1),padding='same',activation='relu'),\n",
    "    BatchNormalization(axis = -1),\n",
    "    MaxPooling2D(pool_size=(2, 2), strides=None, padding='valid', data_format=None)  ,\n",
    "    \n",
    "    \n",
    "    \n",
    "    Conv2D(128, (3, 3),strides = (1,1),padding='same',activation='relu'),\n",
    "    BatchNormalization(axis = -1),\n",
    "    \n",
    "    Conv2D(128, (3, 3),strides = (1,1),padding='same',activation='relu'),\n",
    "    BatchNormalization(axis = -1),\n",
    "    \n",
    "    Conv2D(128, (3, 3),strides = (1,1), padding='same',activation='relu'),\n",
    "    BatchNormalization(axis = -1),\n",
    "    MaxPooling2D(pool_size=(2, 2), strides=None, padding='valid', data_format=None) ,\n",
    "\n",
    "    \n",
    "    Conv2D(256, (3, 3),strides = (1,1),padding='same',activation='relu'),\n",
    "    BatchNormalization(axis = -1),\n",
    "     \n",
    "    Conv2D(256, (3, 3),strides = (1,1),padding='same',activation='relu'),\n",
    "    BatchNormalization(axis = -1),\n",
    "     \n",
    "    Conv2D(256, (3, 3),strides = (1,1),padding='same',activation='relu'),\n",
    "    BatchNormalization(axis = -1),\n",
    "    MaxPooling2D(pool_size=(2, 2), strides=None, padding='valid', data_format=None) ,\n",
    "\n",
    "    \n",
    "    Conv2D(128, (3, 3),strides = (1,1),padding='same',activation='relu'),\n",
    "    BatchNormalization(axis = -1),\n",
    "    MaxPooling2D(pool_size=(2, 2), strides=None, padding='valid', data_format=None) ,\n",
    "    \n",
    "    Conv2D(64, (3, 3),strides = (1,1),padding='same',activation='relu'),\n",
    "    BatchNormalization(axis = -1),\n",
    "\n",
    "    \n",
    "    Conv2D(32, (3, 3),strides = (1,1),padding='same',activation='relu'),\n",
    "    BatchNormalization(axis = -1),\n",
    "    \n",
    "    Conv2D(16, (3, 3),strides = (1,1),padding='same',activation='relu'),\n",
    "    BatchNormalization(axis = -1),\n",
    "    \n",
    "    Conv2D(8, (3, 3),strides = (1,1),padding='same',activation='relu'),\n",
    "    BatchNormalization(axis = -1),\n",
    "    \n",
    "    Conv2D(1, (3, 3),strides = (1,1),padding='same',activation='sigmoid',name = 'output'),\n",
    "    \n",
    "])\n",
    "\n",
    "model.summary()"
   ]
  },
  {
   "cell_type": "code",
   "execution_count": 37,
   "metadata": {},
   "outputs": [],
   "source": [
    "#Cos-loss, not working\n",
    "def loss_cosinesimilarity_entire(y_true,y_pred):\n",
    "    return keras.losses.cosine_proximity(y_true, y_pred)"
   ]
  },
  {
   "cell_type": "code",
   "execution_count": null,
   "metadata": {},
   "outputs": [],
   "source": [
    "# square error\n",
    "def mean_squared_error(y_true, y_pred):\n",
    "    return K.mean(K.square(y_pred - y_true), axis=-1)"
   ]
  },
  {
   "cell_type": "code",
   "execution_count": 36,
   "metadata": {},
   "outputs": [],
   "source": [
    "#Calculate cosine similarity. As 2 most similar vector results in cos similarity of 1, 1-cos.similar as output\n",
    "def cos_distance(y_true, y_pred):\n",
    "    y_true = K.l2_normalize(y_true, axis=-1)\n",
    "    y_pred = K.l2_normalize(y_pred, axis=-1)\n",
    "    return K.mean(1 - K.sum((y_true * y_pred), axis=-1))"
   ]
  },
  {
   "cell_type": "code",
   "execution_count": 15,
   "metadata": {},
   "outputs": [],
   "source": [
    "def loss_myconv_entire(y_true,y_pred):\n",
    "    \n",
    "    y_true_flat_layer0 = K.flatten(y_true[:,:,:,0])\n",
    "    y_pred_flat_layer0 = K.flatten(y_pred[:,:,:,0])\n",
    "    \n",
    "    #Logistic loss for the probabilities \n",
    "    logistic_loss = K.sum(-y_true_flat_layer0*(K.log(y_pred_flat_layer0)) - \\\n",
    "                          (1-y_true_flat_layer0)*(K.log(1-y_pred_flat_layer0)))\n",
    "    print(tf.shape(logistic_loss))\n",
    "    return logistic_loss"
   ]
  },
  {
   "cell_type": "code",
   "execution_count": 16,
   "metadata": {},
   "outputs": [
    {
     "name": "stdout",
     "output_type": "stream",
     "text": [
      "[[0.         0.         0.        ]\n",
      " [1.         0.57735027 0.57735027]\n",
      " [0.40824829 0.         0.        ]]\n",
      "2.5629488288431146\n"
     ]
    }
   ],
   "source": [
    "#testing\n",
    "from sklearn.metrics.pairwise import cosine_similarity\n",
    "matric1 = np.array([0,0,0,0,1,1,1,0,0,1,0,1])\n",
    "matric2 = np.array([1,1,1,0,0,0,1,0,1,0,0,0])\n",
    "matric1 = np.reshape(matric1,(3,4))\n",
    "matric2 = np.reshape(matric2,(3,4))\n",
    "cos_matrix = cosine_similarity(matric1,matric2)\n",
    "k = np.sum(cos_matrix)\n",
    "print(cos_matrix)\n",
    "print(k)"
   ]
  },
  {
   "cell_type": "code",
   "execution_count": 16,
   "metadata": {},
   "outputs": [],
   "source": [
    "#call back function\n",
    "class LossHistory(keras.callbacks.Callback):\n",
    "    def on_train_begin(self, logs={}):\n",
    "        self.loss = []\n",
    "        self.val_acc =[]\n",
    "        self.acc = []\n",
    "        \n",
    "    def on_batch_end(self, batch, logs={}):\n",
    "        self.loss.append(logs.get('loss'))\n",
    "        \n",
    "    def on_epoch_end(self, epoch, logs):\n",
    "        \n",
    "        self.val_acc.append(logs.get('val_acc'))\n",
    "        self.acc.append(logs.get('acc'))\n",
    "    \n",
    "    \n",
    "# Create an instance of the history callback\n",
    "history_cb = LossHistory()"
   ]
  },
  {
   "cell_type": "code",
   "execution_count": 17,
   "metadata": {},
   "outputs": [
    {
     "name": "stdout",
     "output_type": "stream",
     "text": [
      "(714, 16, 16, 1)\n"
     ]
    }
   ],
   "source": [
    "k = np.array(Y_label_vectors)\n",
    "print(k.shape)"
   ]
  },
  {
   "cell_type": "code",
   "execution_count": 42,
   "metadata": {},
   "outputs": [
    {
     "name": "stdout",
     "output_type": "stream",
     "text": [
      "Compiled\n",
      "Train on 714 samples, validate on 129 samples\n",
      "Epoch 1/2\n",
      "  8/714 [..............................] - ETA: 1:31:20 - loss: 0.4238"
     ]
    },
    {
     "ename": "KeyboardInterrupt",
     "evalue": "",
     "output_type": "error",
     "traceback": [
      "\u001b[0;31m---------------------------------------------------------------------------\u001b[0m",
      "\u001b[0;31mKeyboardInterrupt\u001b[0m                         Traceback (most recent call last)",
      "\u001b[0;32m<ipython-input-42-8e9332840b34>\u001b[0m in \u001b[0;36m<module>\u001b[0;34m()\u001b[0m\n\u001b[1;32m      5\u001b[0m \u001b[0mprint\u001b[0m\u001b[0;34m(\u001b[0m\u001b[0;34m'Compiled'\u001b[0m\u001b[0;34m)\u001b[0m\u001b[0;34m\u001b[0m\u001b[0m\n\u001b[1;32m      6\u001b[0m \u001b[0;34m\u001b[0m\u001b[0m\n\u001b[0;32m----> 7\u001b[0;31m \u001b[0mmodel\u001b[0m\u001b[0;34m.\u001b[0m\u001b[0mfit\u001b[0m\u001b[0;34m(\u001b[0m\u001b[0mnp\u001b[0m\u001b[0;34m.\u001b[0m\u001b[0marray\u001b[0m\u001b[0;34m(\u001b[0m\u001b[0mX\u001b[0m\u001b[0;34m)\u001b[0m\u001b[0;34m,\u001b[0m \u001b[0mnp\u001b[0m\u001b[0;34m.\u001b[0m\u001b[0marray\u001b[0m\u001b[0;34m(\u001b[0m\u001b[0mY_label_vectors\u001b[0m\u001b[0;34m)\u001b[0m\u001b[0;34m,\u001b[0m \u001b[0mbatch_size\u001b[0m\u001b[0;34m=\u001b[0m\u001b[0mbatch_size\u001b[0m\u001b[0;34m,\u001b[0m \u001b[0mepochs\u001b[0m\u001b[0;34m=\u001b[0m\u001b[0;36m2\u001b[0m\u001b[0;34m,\u001b[0m \u001b[0mverbose\u001b[0m\u001b[0;34m=\u001b[0m\u001b[0;36m1\u001b[0m\u001b[0;34m,\u001b[0m \u001b[0mvalidation_data\u001b[0m\u001b[0;34m=\u001b[0m\u001b[0;34m(\u001b[0m\u001b[0mnp\u001b[0m\u001b[0;34m.\u001b[0m\u001b[0marray\u001b[0m\u001b[0;34m(\u001b[0m\u001b[0mX_test\u001b[0m\u001b[0;34m)\u001b[0m\u001b[0;34m,\u001b[0m \u001b[0mnp\u001b[0m\u001b[0;34m.\u001b[0m\u001b[0marray\u001b[0m\u001b[0;34m(\u001b[0m\u001b[0mY_label_vectors_test\u001b[0m\u001b[0;34m)\u001b[0m\u001b[0;34m)\u001b[0m\u001b[0;34m,\u001b[0m \u001b[0mcallbacks\u001b[0m \u001b[0;34m=\u001b[0m \u001b[0;34m[\u001b[0m\u001b[0mhistory_cb\u001b[0m\u001b[0;34m]\u001b[0m\u001b[0;34m)\u001b[0m\u001b[0;34m\u001b[0m\u001b[0m\n\u001b[0m\u001b[1;32m      8\u001b[0m \u001b[0mprint\u001b[0m\u001b[0;34m(\u001b[0m\u001b[0;34m'Fitted'\u001b[0m\u001b[0;34m)\u001b[0m\u001b[0;34m\u001b[0m\u001b[0m\n",
      "\u001b[0;32m~/anaconda3/envs/tensorflow_p36/lib/python3.6/site-packages/keras/engine/training.py\u001b[0m in \u001b[0;36mfit\u001b[0;34m(self, x, y, batch_size, epochs, verbose, callbacks, validation_split, validation_data, shuffle, class_weight, sample_weight, initial_epoch, steps_per_epoch, validation_steps, **kwargs)\u001b[0m\n\u001b[1;32m   1037\u001b[0m                                         \u001b[0minitial_epoch\u001b[0m\u001b[0;34m=\u001b[0m\u001b[0minitial_epoch\u001b[0m\u001b[0;34m,\u001b[0m\u001b[0;34m\u001b[0m\u001b[0m\n\u001b[1;32m   1038\u001b[0m                                         \u001b[0msteps_per_epoch\u001b[0m\u001b[0;34m=\u001b[0m\u001b[0msteps_per_epoch\u001b[0m\u001b[0;34m,\u001b[0m\u001b[0;34m\u001b[0m\u001b[0m\n\u001b[0;32m-> 1039\u001b[0;31m                                         validation_steps=validation_steps)\n\u001b[0m\u001b[1;32m   1040\u001b[0m \u001b[0;34m\u001b[0m\u001b[0m\n\u001b[1;32m   1041\u001b[0m     def evaluate(self, x=None, y=None,\n",
      "\u001b[0;32m~/anaconda3/envs/tensorflow_p36/lib/python3.6/site-packages/keras/engine/training_arrays.py\u001b[0m in \u001b[0;36mfit_loop\u001b[0;34m(model, f, ins, out_labels, batch_size, epochs, verbose, callbacks, val_f, val_ins, shuffle, callback_metrics, initial_epoch, steps_per_epoch, validation_steps)\u001b[0m\n\u001b[1;32m    197\u001b[0m                     \u001b[0mins_batch\u001b[0m\u001b[0;34m[\u001b[0m\u001b[0mi\u001b[0m\u001b[0;34m]\u001b[0m \u001b[0;34m=\u001b[0m \u001b[0mins_batch\u001b[0m\u001b[0;34m[\u001b[0m\u001b[0mi\u001b[0m\u001b[0;34m]\u001b[0m\u001b[0;34m.\u001b[0m\u001b[0mtoarray\u001b[0m\u001b[0;34m(\u001b[0m\u001b[0;34m)\u001b[0m\u001b[0;34m\u001b[0m\u001b[0m\n\u001b[1;32m    198\u001b[0m \u001b[0;34m\u001b[0m\u001b[0m\n\u001b[0;32m--> 199\u001b[0;31m                 \u001b[0mouts\u001b[0m \u001b[0;34m=\u001b[0m \u001b[0mf\u001b[0m\u001b[0;34m(\u001b[0m\u001b[0mins_batch\u001b[0m\u001b[0;34m)\u001b[0m\u001b[0;34m\u001b[0m\u001b[0m\n\u001b[0m\u001b[1;32m    200\u001b[0m                 \u001b[0mouts\u001b[0m \u001b[0;34m=\u001b[0m \u001b[0mto_list\u001b[0m\u001b[0;34m(\u001b[0m\u001b[0mouts\u001b[0m\u001b[0;34m)\u001b[0m\u001b[0;34m\u001b[0m\u001b[0m\n\u001b[1;32m    201\u001b[0m                 \u001b[0;32mfor\u001b[0m \u001b[0ml\u001b[0m\u001b[0;34m,\u001b[0m \u001b[0mo\u001b[0m \u001b[0;32min\u001b[0m \u001b[0mzip\u001b[0m\u001b[0;34m(\u001b[0m\u001b[0mout_labels\u001b[0m\u001b[0;34m,\u001b[0m \u001b[0mouts\u001b[0m\u001b[0;34m)\u001b[0m\u001b[0;34m:\u001b[0m\u001b[0;34m\u001b[0m\u001b[0m\n",
      "\u001b[0;32m~/anaconda3/envs/tensorflow_p36/lib/python3.6/site-packages/keras/backend/tensorflow_backend.py\u001b[0m in \u001b[0;36m__call__\u001b[0;34m(self, inputs)\u001b[0m\n\u001b[1;32m   2713\u001b[0m                 \u001b[0;32mreturn\u001b[0m \u001b[0mself\u001b[0m\u001b[0;34m.\u001b[0m\u001b[0m_legacy_call\u001b[0m\u001b[0;34m(\u001b[0m\u001b[0minputs\u001b[0m\u001b[0;34m)\u001b[0m\u001b[0;34m\u001b[0m\u001b[0m\n\u001b[1;32m   2714\u001b[0m \u001b[0;34m\u001b[0m\u001b[0m\n\u001b[0;32m-> 2715\u001b[0;31m             \u001b[0;32mreturn\u001b[0m \u001b[0mself\u001b[0m\u001b[0;34m.\u001b[0m\u001b[0m_call\u001b[0m\u001b[0;34m(\u001b[0m\u001b[0minputs\u001b[0m\u001b[0;34m)\u001b[0m\u001b[0;34m\u001b[0m\u001b[0m\n\u001b[0m\u001b[1;32m   2716\u001b[0m         \u001b[0;32melse\u001b[0m\u001b[0;34m:\u001b[0m\u001b[0;34m\u001b[0m\u001b[0m\n\u001b[1;32m   2717\u001b[0m             \u001b[0;32mif\u001b[0m \u001b[0mpy_any\u001b[0m\u001b[0;34m(\u001b[0m\u001b[0mis_tensor\u001b[0m\u001b[0;34m(\u001b[0m\u001b[0mx\u001b[0m\u001b[0;34m)\u001b[0m \u001b[0;32mfor\u001b[0m \u001b[0mx\u001b[0m \u001b[0;32min\u001b[0m \u001b[0minputs\u001b[0m\u001b[0;34m)\u001b[0m\u001b[0;34m:\u001b[0m\u001b[0;34m\u001b[0m\u001b[0m\n",
      "\u001b[0;32m~/anaconda3/envs/tensorflow_p36/lib/python3.6/site-packages/keras/backend/tensorflow_backend.py\u001b[0m in \u001b[0;36m_call\u001b[0;34m(self, inputs)\u001b[0m\n\u001b[1;32m   2673\u001b[0m             \u001b[0mfetched\u001b[0m \u001b[0;34m=\u001b[0m \u001b[0mself\u001b[0m\u001b[0;34m.\u001b[0m\u001b[0m_callable_fn\u001b[0m\u001b[0;34m(\u001b[0m\u001b[0;34m*\u001b[0m\u001b[0marray_vals\u001b[0m\u001b[0;34m,\u001b[0m \u001b[0mrun_metadata\u001b[0m\u001b[0;34m=\u001b[0m\u001b[0mself\u001b[0m\u001b[0;34m.\u001b[0m\u001b[0mrun_metadata\u001b[0m\u001b[0;34m)\u001b[0m\u001b[0;34m\u001b[0m\u001b[0m\n\u001b[1;32m   2674\u001b[0m         \u001b[0;32melse\u001b[0m\u001b[0;34m:\u001b[0m\u001b[0;34m\u001b[0m\u001b[0m\n\u001b[0;32m-> 2675\u001b[0;31m             \u001b[0mfetched\u001b[0m \u001b[0;34m=\u001b[0m \u001b[0mself\u001b[0m\u001b[0;34m.\u001b[0m\u001b[0m_callable_fn\u001b[0m\u001b[0;34m(\u001b[0m\u001b[0;34m*\u001b[0m\u001b[0marray_vals\u001b[0m\u001b[0;34m)\u001b[0m\u001b[0;34m\u001b[0m\u001b[0m\n\u001b[0m\u001b[1;32m   2676\u001b[0m         \u001b[0;32mreturn\u001b[0m \u001b[0mfetched\u001b[0m\u001b[0;34m[\u001b[0m\u001b[0;34m:\u001b[0m\u001b[0mlen\u001b[0m\u001b[0;34m(\u001b[0m\u001b[0mself\u001b[0m\u001b[0;34m.\u001b[0m\u001b[0moutputs\u001b[0m\u001b[0;34m)\u001b[0m\u001b[0;34m]\u001b[0m\u001b[0;34m\u001b[0m\u001b[0m\n\u001b[1;32m   2677\u001b[0m \u001b[0;34m\u001b[0m\u001b[0m\n",
      "\u001b[0;32m~/anaconda3/envs/tensorflow_p36/lib/python3.6/site-packages/tensorflow/python/client/session.py\u001b[0m in \u001b[0;36m__call__\u001b[0;34m(self, *args, **kwargs)\u001b[0m\n\u001b[1;32m   1437\u001b[0m           ret = tf_session.TF_SessionRunCallable(\n\u001b[1;32m   1438\u001b[0m               \u001b[0mself\u001b[0m\u001b[0;34m.\u001b[0m\u001b[0m_session\u001b[0m\u001b[0;34m.\u001b[0m\u001b[0m_session\u001b[0m\u001b[0;34m,\u001b[0m \u001b[0mself\u001b[0m\u001b[0;34m.\u001b[0m\u001b[0m_handle\u001b[0m\u001b[0;34m,\u001b[0m \u001b[0margs\u001b[0m\u001b[0;34m,\u001b[0m \u001b[0mstatus\u001b[0m\u001b[0;34m,\u001b[0m\u001b[0;34m\u001b[0m\u001b[0m\n\u001b[0;32m-> 1439\u001b[0;31m               run_metadata_ptr)\n\u001b[0m\u001b[1;32m   1440\u001b[0m         \u001b[0;32mif\u001b[0m \u001b[0mrun_metadata\u001b[0m\u001b[0;34m:\u001b[0m\u001b[0;34m\u001b[0m\u001b[0m\n\u001b[1;32m   1441\u001b[0m           \u001b[0mproto_data\u001b[0m \u001b[0;34m=\u001b[0m \u001b[0mtf_session\u001b[0m\u001b[0;34m.\u001b[0m\u001b[0mTF_GetBuffer\u001b[0m\u001b[0;34m(\u001b[0m\u001b[0mrun_metadata_ptr\u001b[0m\u001b[0;34m)\u001b[0m\u001b[0;34m\u001b[0m\u001b[0m\n",
      "\u001b[0;31mKeyboardInterrupt\u001b[0m: "
     ]
    }
   ],
   "source": [
    "#Complilation and fitting\n",
    "opt= optimizers.Adam(lr = 0.001)\n",
    "batch_size = 1\n",
    "model.compile(loss=\"mean_absolute_error\", optimizer=opt)\n",
    "print('Compiled')\n",
    "\n",
    "model.fit(np.array(X), np.array(Y_label_vectors), batch_size=batch_size, epochs=2, verbose=1, validation_data=(np.array(X_test), np.array(Y_label_vectors_test)), callbacks = [history_cb])\n",
    "print('Fitted')"
   ]
  },
  {
   "cell_type": "code",
   "execution_count": 17,
   "metadata": {},
   "outputs": [],
   "source": [
    "#Save model weights\n",
    "model.save_weights('my_model_weights_cos_similarity_1_epochs.h5')"
   ]
  },
  {
   "cell_type": "code",
   "execution_count": 204,
   "metadata": {},
   "outputs": [],
   "source": [
    "# Load model weights\n",
    "model.load_weights('my_model_weights_8epochs.h5')"
   ]
  },
  {
   "cell_type": "code",
   "execution_count": 22,
   "metadata": {},
   "outputs": [],
   "source": [
    "with open('loss_history.txt','w') as f:\n",
    "    f.write(str(history_cb.loss))"
   ]
  },
  {
   "cell_type": "code",
   "execution_count": 29,
   "metadata": {},
   "outputs": [
    {
     "data": {
      "image/png": "[encoded data removed]",
      "text/plain": [
       "<Figure size 432x288 with 1 Axes>"
      ]
     },
     "metadata": {},
     "output_type": "display_data"
    }
   ],
   "source": [
    "current_step = [i for i in range(1,len(history_cb.loss)+1)]\n",
    "#plt.plot(current_step,history_cb.loss)\n",
    "plt.semilogy(current_step,history_cb.loss)\n",
    "# plt.semilogy(losses)\n",
    "plt.ylabel('Loss')\n",
    "plt.xlabel('Step')\n",
    "plt.title('Loss vs Step')\n",
    "plt.show()"
   ]
  },
  {
   "cell_type": "code",
   "execution_count": 32,
   "metadata": {},
   "outputs": [
    {
     "ename": "TypeError",
     "evalue": "list indices must be integers or slices, not tuple",
     "output_type": "error",
     "traceback": [
      "\u001b[0;31m---------------------------------------------------------------------------\u001b[0m",
      "\u001b[0;31mTypeError\u001b[0m                                 Traceback (most recent call last)",
      "\u001b[0;32m<ipython-input-32-b947e4a6860a>\u001b[0m in \u001b[0;36m<module>\u001b[0;34m()\u001b[0m\n\u001b[1;32m      7\u001b[0m \u001b[0;34m\u001b[0m\u001b[0m\n\u001b[1;32m      8\u001b[0m \u001b[0;31m#Plotting Ground truth/Actual output\u001b[0m\u001b[0;34m\u001b[0m\u001b[0;34m\u001b[0m\u001b[0m\n\u001b[0;32m----> 9\u001b[0;31m \u001b[0mplt\u001b[0m\u001b[0;34m.\u001b[0m\u001b[0mimshow\u001b[0m\u001b[0;34m(\u001b[0m\u001b[0mY_label_vectors_test\u001b[0m\u001b[0;34m[\u001b[0m\u001b[0mchoice\u001b[0m\u001b[0;34m:\u001b[0m\u001b[0mchoice\u001b[0m\u001b[0;34m+\u001b[0m\u001b[0;36m1\u001b[0m\u001b[0;34m,\u001b[0m\u001b[0;34m:\u001b[0m\u001b[0;34m,\u001b[0m\u001b[0;34m:\u001b[0m\u001b[0;34m,\u001b[0m\u001b[0;36m0\u001b[0m\u001b[0;34m]\u001b[0m\u001b[0;34m.\u001b[0m\u001b[0mreshape\u001b[0m\u001b[0;34m(\u001b[0m\u001b[0;36m16\u001b[0m\u001b[0;34m,\u001b[0m\u001b[0;36m16\u001b[0m\u001b[0;34m)\u001b[0m\u001b[0;34m,\u001b[0m\u001b[0mcmap\u001b[0m \u001b[0;34m=\u001b[0m \u001b[0;34m'gray'\u001b[0m\u001b[0;34m)\u001b[0m\u001b[0;34m\u001b[0m\u001b[0m\n\u001b[0m\u001b[1;32m     10\u001b[0m \u001b[0mplt\u001b[0m\u001b[0;34m.\u001b[0m\u001b[0mtitle\u001b[0m\u001b[0;34m(\u001b[0m\u001b[0;34m'Ground truth Output Y'\u001b[0m\u001b[0;34m)\u001b[0m\u001b[0;34m\u001b[0m\u001b[0m\n\u001b[1;32m     11\u001b[0m \u001b[0mplt\u001b[0m\u001b[0;34m.\u001b[0m\u001b[0mshow\u001b[0m\u001b[0;34m(\u001b[0m\u001b[0;34m)\u001b[0m\u001b[0;34m\u001b[0m\u001b[0m\n",
      "\u001b[0;31mTypeError\u001b[0m: list indices must be integers or slices, not tuple"
     ]
    }
   ],
   "source": [
    "\n",
    "#choosing a random image\n",
    "choice = 100\n",
    "\n",
    "#predicting for the image with the trained model\n",
    "yout = model.predict(X_test[choice:choice+1])\n",
    "\n",
    "#Plotting Ground truth/Actual output\n",
    "plt.imshow(Y_label_vectors_test[choice:choice+1,:,:,0].reshape(16,16),cmap = 'gray')\n",
    "plt.title('Ground truth Output Y')\n",
    "plt.show()\n",
    "\n",
    "#Plotting predicted output\n",
    "plt.imshow(yout[0,:,:,0].reshape(16,16),cmap = 'gray')\n",
    "plt.title('Predicted Output Y: Heat Map')\n",
    "plt.show()"
   ]
  },
  {
   "cell_type": "code",
   "execution_count": null,
   "metadata": {},
   "outputs": [],
   "source": []
  }
 ],
 "metadata": {
  "kernelspec": {
   "display_name": "Python 3",
   "language": "python",
   "name": "python3"
  },
  "language_info": {
   "codemirror_mode": {
    "name": "ipython",
    "version": 3
   },
   "file_extension": ".py",
   "mimetype": "text/x-python",
   "name": "python",
   "nbconvert_exporter": "python",
   "pygments_lexer": "ipython3",
   "version": "3.6.5"
  }
 },
 "nbformat": 4,
 "nbformat_minor": 2
}
